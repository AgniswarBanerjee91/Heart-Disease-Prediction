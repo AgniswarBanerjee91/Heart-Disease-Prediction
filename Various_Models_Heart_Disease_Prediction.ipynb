{
  "metadata": {
    "kernelspec": {
      "language": "python",
      "display_name": "Python 3",
      "name": "python3"
    },
    "language_info": {
      "name": "python",
      "version": "3.10.13",
      "mimetype": "text/x-python",
      "codemirror_mode": {
        "name": "ipython",
        "version": 3
      },
      "pygments_lexer": "ipython3",
      "nbconvert_exporter": "python",
      "file_extension": ".py"
    },
    "kaggle": {
      "accelerator": "none",
      "dataSources": [
        {
          "sourceId": 477177,
          "sourceType": "datasetVersion",
          "datasetId": 216167
        }
      ],
      "dockerImageVersionId": 30646,
      "isInternetEnabled": true,
      "language": "python",
      "sourceType": "notebook",
      "isGpuEnabled": false
    },
    "colab": {
      "provenance": []
    }
  },
  "nbformat_minor": 0,
  "nbformat": 4,
  "cells": [
    {
      "cell_type": "markdown",
      "source": [
        "# ***Importing the required libraries***"
      ],
      "metadata": {
        "id": "h452MtTzPbew"
      }
    },
    {
      "cell_type": "code",
      "source": [
        "import numpy as np\n",
        "import pandas as pd\n",
        "import matplotlib.pyplot as plt\n",
        "%matplotlib inline\n",
        "import seaborn as sns\n",
        "import os\n",
        "import warnings\n",
        "warnings.filterwarnings('ignore')\n",
        "plt.style.use('Solarize_Light2')"
      ],
      "metadata": {
        "execution": {
          "iopub.status.busy": "2024-02-04T05:16:08.657196Z",
          "iopub.execute_input": "2024-02-04T05:16:08.657615Z",
          "iopub.status.idle": "2024-02-04T05:16:08.665067Z",
          "shell.execute_reply.started": "2024-02-04T05:16:08.657557Z",
          "shell.execute_reply": "2024-02-04T05:16:08.664333Z"
        },
        "trusted": true,
        "id": "R2G3K5K5Pbe0"
      },
      "execution_count": 1,
      "outputs": []
    },
    {
      "cell_type": "markdown",
      "source": [
        "# ***Importing the Dataset***"
      ],
      "metadata": {
        "id": "ORWOQvSTPbe2"
      }
    },
    {
      "cell_type": "code",
      "source": [
        "df = pd.read_csv('heart.csv')"
      ],
      "metadata": {
        "execution": {
          "iopub.status.busy": "2024-02-04T05:16:08.666370Z",
          "iopub.execute_input": "2024-02-04T05:16:08.666873Z",
          "iopub.status.idle": "2024-02-04T05:16:08.702469Z",
          "shell.execute_reply.started": "2024-02-04T05:16:08.666842Z",
          "shell.execute_reply": "2024-02-04T05:16:08.701057Z"
        },
        "trusted": true,
        "id": "FMpj5qhcPbe3"
      },
      "execution_count": 2,
      "outputs": []
    },
    {
      "cell_type": "markdown",
      "source": [
        "# ***Exploring and Cleaning the dataset***"
      ],
      "metadata": {
        "id": "lcW-EeJ6Pbe3"
      }
    },
    {
      "cell_type": "code",
      "source": [
        "df.shape"
      ],
      "metadata": {
        "execution": {
          "iopub.status.busy": "2024-02-04T05:16:08.704505Z",
          "iopub.execute_input": "2024-02-04T05:16:08.705562Z",
          "iopub.status.idle": "2024-02-04T05:16:08.712605Z",
          "shell.execute_reply.started": "2024-02-04T05:16:08.705524Z",
          "shell.execute_reply": "2024-02-04T05:16:08.711665Z"
        },
        "trusted": true,
        "colab": {
          "base_uri": "https://localhost:8080/"
        },
        "id": "dlR6DSjaPbe3",
        "outputId": "ecf691c4-3fc2-4d9c-9e70-4e810682850f"
      },
      "execution_count": 3,
      "outputs": [
        {
          "output_type": "execute_result",
          "data": {
            "text/plain": [
              "(303, 14)"
            ]
          },
          "metadata": {},
          "execution_count": 3
        }
      ]
    },
    {
      "cell_type": "code",
      "source": [
        "df.head(10)"
      ],
      "metadata": {
        "execution": {
          "iopub.status.busy": "2024-02-04T05:16:08.714509Z",
          "iopub.execute_input": "2024-02-04T05:16:08.714829Z",
          "iopub.status.idle": "2024-02-04T05:16:08.737275Z",
          "shell.execute_reply.started": "2024-02-04T05:16:08.714803Z",
          "shell.execute_reply": "2024-02-04T05:16:08.735804Z"
        },
        "trusted": true,
        "colab": {
          "base_uri": "https://localhost:8080/",
          "height": 363
        },
        "id": "AmWJTAcdPbe4",
        "outputId": "9efd3243-7ed8-4354-a33a-64cd6b950688"
      },
      "execution_count": 4,
      "outputs": [
        {
          "output_type": "execute_result",
          "data": {
            "text/plain": [
              "   age  sex  cp  trestbps  chol  fbs  restecg  thalach  exang  oldpeak  slope  \\\n",
              "0   63    1   3       145   233    1        0      150      0      2.3      0   \n",
              "1   37    1   2       130   250    0        1      187      0      3.5      0   \n",
              "2   41    0   1       130   204    0        0      172      0      1.4      2   \n",
              "3   56    1   1       120   236    0        1      178      0      0.8      2   \n",
              "4   57    0   0       120   354    0        1      163      1      0.6      2   \n",
              "5   57    1   0       140   192    0        1      148      0      0.4      1   \n",
              "6   56    0   1       140   294    0        0      153      0      1.3      1   \n",
              "7   44    1   1       120   263    0        1      173      0      0.0      2   \n",
              "8   52    1   2       172   199    1        1      162      0      0.5      2   \n",
              "9   57    1   2       150   168    0        1      174      0      1.6      2   \n",
              "\n",
              "   ca  thal  target  \n",
              "0   0     1       1  \n",
              "1   0     2       1  \n",
              "2   0     2       1  \n",
              "3   0     2       1  \n",
              "4   0     2       1  \n",
              "5   0     1       1  \n",
              "6   0     2       1  \n",
              "7   0     3       1  \n",
              "8   0     3       1  \n",
              "9   0     2       1  "
            ],
            "text/html": [
              "\n",
              "  <div id=\"df-67649b1a-03ba-4159-9078-200900497e90\" class=\"colab-df-container\">\n",
              "    <div>\n",
              "<style scoped>\n",
              "    .dataframe tbody tr th:only-of-type {\n",
              "        vertical-align: middle;\n",
              "    }\n",
              "\n",
              "    .dataframe tbody tr th {\n",
              "        vertical-align: top;\n",
              "    }\n",
              "\n",
              "    .dataframe thead th {\n",
              "        text-align: right;\n",
              "    }\n",
              "</style>\n",
              "<table border=\"1\" class=\"dataframe\">\n",
              "  <thead>\n",
              "    <tr style=\"text-align: right;\">\n",
              "      <th></th>\n",
              "      <th>age</th>\n",
              "      <th>sex</th>\n",
              "      <th>cp</th>\n",
              "      <th>trestbps</th>\n",
              "      <th>chol</th>\n",
              "      <th>fbs</th>\n",
              "      <th>restecg</th>\n",
              "      <th>thalach</th>\n",
              "      <th>exang</th>\n",
              "      <th>oldpeak</th>\n",
              "      <th>slope</th>\n",
              "      <th>ca</th>\n",
              "      <th>thal</th>\n",
              "      <th>target</th>\n",
              "    </tr>\n",
              "  </thead>\n",
              "  <tbody>\n",
              "    <tr>\n",
              "      <th>0</th>\n",
              "      <td>63</td>\n",
              "      <td>1</td>\n",
              "      <td>3</td>\n",
              "      <td>145</td>\n",
              "      <td>233</td>\n",
              "      <td>1</td>\n",
              "      <td>0</td>\n",
              "      <td>150</td>\n",
              "      <td>0</td>\n",
              "      <td>2.3</td>\n",
              "      <td>0</td>\n",
              "      <td>0</td>\n",
              "      <td>1</td>\n",
              "      <td>1</td>\n",
              "    </tr>\n",
              "    <tr>\n",
              "      <th>1</th>\n",
              "      <td>37</td>\n",
              "      <td>1</td>\n",
              "      <td>2</td>\n",
              "      <td>130</td>\n",
              "      <td>250</td>\n",
              "      <td>0</td>\n",
              "      <td>1</td>\n",
              "      <td>187</td>\n",
              "      <td>0</td>\n",
              "      <td>3.5</td>\n",
              "      <td>0</td>\n",
              "      <td>0</td>\n",
              "      <td>2</td>\n",
              "      <td>1</td>\n",
              "    </tr>\n",
              "    <tr>\n",
              "      <th>2</th>\n",
              "      <td>41</td>\n",
              "      <td>0</td>\n",
              "      <td>1</td>\n",
              "      <td>130</td>\n",
              "      <td>204</td>\n",
              "      <td>0</td>\n",
              "      <td>0</td>\n",
              "      <td>172</td>\n",
              "      <td>0</td>\n",
              "      <td>1.4</td>\n",
              "      <td>2</td>\n",
              "      <td>0</td>\n",
              "      <td>2</td>\n",
              "      <td>1</td>\n",
              "    </tr>\n",
              "    <tr>\n",
              "      <th>3</th>\n",
              "      <td>56</td>\n",
              "      <td>1</td>\n",
              "      <td>1</td>\n",
              "      <td>120</td>\n",
              "      <td>236</td>\n",
              "      <td>0</td>\n",
              "      <td>1</td>\n",
              "      <td>178</td>\n",
              "      <td>0</td>\n",
              "      <td>0.8</td>\n",
              "      <td>2</td>\n",
              "      <td>0</td>\n",
              "      <td>2</td>\n",
              "      <td>1</td>\n",
              "    </tr>\n",
              "    <tr>\n",
              "      <th>4</th>\n",
              "      <td>57</td>\n",
              "      <td>0</td>\n",
              "      <td>0</td>\n",
              "      <td>120</td>\n",
              "      <td>354</td>\n",
              "      <td>0</td>\n",
              "      <td>1</td>\n",
              "      <td>163</td>\n",
              "      <td>1</td>\n",
              "      <td>0.6</td>\n",
              "      <td>2</td>\n",
              "      <td>0</td>\n",
              "      <td>2</td>\n",
              "      <td>1</td>\n",
              "    </tr>\n",
              "    <tr>\n",
              "      <th>5</th>\n",
              "      <td>57</td>\n",
              "      <td>1</td>\n",
              "      <td>0</td>\n",
              "      <td>140</td>\n",
              "      <td>192</td>\n",
              "      <td>0</td>\n",
              "      <td>1</td>\n",
              "      <td>148</td>\n",
              "      <td>0</td>\n",
              "      <td>0.4</td>\n",
              "      <td>1</td>\n",
              "      <td>0</td>\n",
              "      <td>1</td>\n",
              "      <td>1</td>\n",
              "    </tr>\n",
              "    <tr>\n",
              "      <th>6</th>\n",
              "      <td>56</td>\n",
              "      <td>0</td>\n",
              "      <td>1</td>\n",
              "      <td>140</td>\n",
              "      <td>294</td>\n",
              "      <td>0</td>\n",
              "      <td>0</td>\n",
              "      <td>153</td>\n",
              "      <td>0</td>\n",
              "      <td>1.3</td>\n",
              "      <td>1</td>\n",
              "      <td>0</td>\n",
              "      <td>2</td>\n",
              "      <td>1</td>\n",
              "    </tr>\n",
              "    <tr>\n",
              "      <th>7</th>\n",
              "      <td>44</td>\n",
              "      <td>1</td>\n",
              "      <td>1</td>\n",
              "      <td>120</td>\n",
              "      <td>263</td>\n",
              "      <td>0</td>\n",
              "      <td>1</td>\n",
              "      <td>173</td>\n",
              "      <td>0</td>\n",
              "      <td>0.0</td>\n",
              "      <td>2</td>\n",
              "      <td>0</td>\n",
              "      <td>3</td>\n",
              "      <td>1</td>\n",
              "    </tr>\n",
              "    <tr>\n",
              "      <th>8</th>\n",
              "      <td>52</td>\n",
              "      <td>1</td>\n",
              "      <td>2</td>\n",
              "      <td>172</td>\n",
              "      <td>199</td>\n",
              "      <td>1</td>\n",
              "      <td>1</td>\n",
              "      <td>162</td>\n",
              "      <td>0</td>\n",
              "      <td>0.5</td>\n",
              "      <td>2</td>\n",
              "      <td>0</td>\n",
              "      <td>3</td>\n",
              "      <td>1</td>\n",
              "    </tr>\n",
              "    <tr>\n",
              "      <th>9</th>\n",
              "      <td>57</td>\n",
              "      <td>1</td>\n",
              "      <td>2</td>\n",
              "      <td>150</td>\n",
              "      <td>168</td>\n",
              "      <td>0</td>\n",
              "      <td>1</td>\n",
              "      <td>174</td>\n",
              "      <td>0</td>\n",
              "      <td>1.6</td>\n",
              "      <td>2</td>\n",
              "      <td>0</td>\n",
              "      <td>2</td>\n",
              "      <td>1</td>\n",
              "    </tr>\n",
              "  </tbody>\n",
              "</table>\n",
              "</div>\n",
              "    <div class=\"colab-df-buttons\">\n",
              "\n",
              "  <div class=\"colab-df-container\">\n",
              "    <button class=\"colab-df-convert\" onclick=\"convertToInteractive('df-67649b1a-03ba-4159-9078-200900497e90')\"\n",
              "            title=\"Convert this dataframe to an interactive table.\"\n",
              "            style=\"display:none;\">\n",
              "\n",
              "  <svg xmlns=\"http://www.w3.org/2000/svg\" height=\"24px\" viewBox=\"0 -960 960 960\">\n",
              "    <path d=\"M120-120v-720h720v720H120Zm60-500h600v-160H180v160Zm220 220h160v-160H400v160Zm0 220h160v-160H400v160ZM180-400h160v-160H180v160Zm440 0h160v-160H620v160ZM180-180h160v-160H180v160Zm440 0h160v-160H620v160Z\"/>\n",
              "  </svg>\n",
              "    </button>\n",
              "\n",
              "  <style>\n",
              "    .colab-df-container {\n",
              "      display:flex;\n",
              "      gap: 12px;\n",
              "    }\n",
              "\n",
              "    .colab-df-convert {\n",
              "      background-color: #E8F0FE;\n",
              "      border: none;\n",
              "      border-radius: 50%;\n",
              "      cursor: pointer;\n",
              "      display: none;\n",
              "      fill: #1967D2;\n",
              "      height: 32px;\n",
              "      padding: 0 0 0 0;\n",
              "      width: 32px;\n",
              "    }\n",
              "\n",
              "    .colab-df-convert:hover {\n",
              "      background-color: #E2EBFA;\n",
              "      box-shadow: 0px 1px 2px rgba(60, 64, 67, 0.3), 0px 1px 3px 1px rgba(60, 64, 67, 0.15);\n",
              "      fill: #174EA6;\n",
              "    }\n",
              "\n",
              "    .colab-df-buttons div {\n",
              "      margin-bottom: 4px;\n",
              "    }\n",
              "\n",
              "    [theme=dark] .colab-df-convert {\n",
              "      background-color: #3B4455;\n",
              "      fill: #D2E3FC;\n",
              "    }\n",
              "\n",
              "    [theme=dark] .colab-df-convert:hover {\n",
              "      background-color: #434B5C;\n",
              "      box-shadow: 0px 1px 3px 1px rgba(0, 0, 0, 0.15);\n",
              "      filter: drop-shadow(0px 1px 2px rgba(0, 0, 0, 0.3));\n",
              "      fill: #FFFFFF;\n",
              "    }\n",
              "  </style>\n",
              "\n",
              "    <script>\n",
              "      const buttonEl =\n",
              "        document.querySelector('#df-67649b1a-03ba-4159-9078-200900497e90 button.colab-df-convert');\n",
              "      buttonEl.style.display =\n",
              "        google.colab.kernel.accessAllowed ? 'block' : 'none';\n",
              "\n",
              "      async function convertToInteractive(key) {\n",
              "        const element = document.querySelector('#df-67649b1a-03ba-4159-9078-200900497e90');\n",
              "        const dataTable =\n",
              "          await google.colab.kernel.invokeFunction('convertToInteractive',\n",
              "                                                    [key], {});\n",
              "        if (!dataTable) return;\n",
              "\n",
              "        const docLinkHtml = 'Like what you see? Visit the ' +\n",
              "          '<a target=\"_blank\" href=https://colab.research.google.com/notebooks/data_table.ipynb>data table notebook</a>'\n",
              "          + ' to learn more about interactive tables.';\n",
              "        element.innerHTML = '';\n",
              "        dataTable['output_type'] = 'display_data';\n",
              "        await google.colab.output.renderOutput(dataTable, element);\n",
              "        const docLink = document.createElement('div');\n",
              "        docLink.innerHTML = docLinkHtml;\n",
              "        element.appendChild(docLink);\n",
              "      }\n",
              "    </script>\n",
              "  </div>\n",
              "\n",
              "\n",
              "<div id=\"df-31b25ca7-77ea-476f-94b2-ec77702f6bce\">\n",
              "  <button class=\"colab-df-quickchart\" onclick=\"quickchart('df-31b25ca7-77ea-476f-94b2-ec77702f6bce')\"\n",
              "            title=\"Suggest charts\"\n",
              "            style=\"display:none;\">\n",
              "\n",
              "<svg xmlns=\"http://www.w3.org/2000/svg\" height=\"24px\"viewBox=\"0 0 24 24\"\n",
              "     width=\"24px\">\n",
              "    <g>\n",
              "        <path d=\"M19 3H5c-1.1 0-2 .9-2 2v14c0 1.1.9 2 2 2h14c1.1 0 2-.9 2-2V5c0-1.1-.9-2-2-2zM9 17H7v-7h2v7zm4 0h-2V7h2v10zm4 0h-2v-4h2v4z\"/>\n",
              "    </g>\n",
              "</svg>\n",
              "  </button>\n",
              "\n",
              "<style>\n",
              "  .colab-df-quickchart {\n",
              "      --bg-color: #E8F0FE;\n",
              "      --fill-color: #1967D2;\n",
              "      --hover-bg-color: #E2EBFA;\n",
              "      --hover-fill-color: #174EA6;\n",
              "      --disabled-fill-color: #AAA;\n",
              "      --disabled-bg-color: #DDD;\n",
              "  }\n",
              "\n",
              "  [theme=dark] .colab-df-quickchart {\n",
              "      --bg-color: #3B4455;\n",
              "      --fill-color: #D2E3FC;\n",
              "      --hover-bg-color: #434B5C;\n",
              "      --hover-fill-color: #FFFFFF;\n",
              "      --disabled-bg-color: #3B4455;\n",
              "      --disabled-fill-color: #666;\n",
              "  }\n",
              "\n",
              "  .colab-df-quickchart {\n",
              "    background-color: var(--bg-color);\n",
              "    border: none;\n",
              "    border-radius: 50%;\n",
              "    cursor: pointer;\n",
              "    display: none;\n",
              "    fill: var(--fill-color);\n",
              "    height: 32px;\n",
              "    padding: 0;\n",
              "    width: 32px;\n",
              "  }\n",
              "\n",
              "  .colab-df-quickchart:hover {\n",
              "    background-color: var(--hover-bg-color);\n",
              "    box-shadow: 0 1px 2px rgba(60, 64, 67, 0.3), 0 1px 3px 1px rgba(60, 64, 67, 0.15);\n",
              "    fill: var(--button-hover-fill-color);\n",
              "  }\n",
              "\n",
              "  .colab-df-quickchart-complete:disabled,\n",
              "  .colab-df-quickchart-complete:disabled:hover {\n",
              "    background-color: var(--disabled-bg-color);\n",
              "    fill: var(--disabled-fill-color);\n",
              "    box-shadow: none;\n",
              "  }\n",
              "\n",
              "  .colab-df-spinner {\n",
              "    border: 2px solid var(--fill-color);\n",
              "    border-color: transparent;\n",
              "    border-bottom-color: var(--fill-color);\n",
              "    animation:\n",
              "      spin 1s steps(1) infinite;\n",
              "  }\n",
              "\n",
              "  @keyframes spin {\n",
              "    0% {\n",
              "      border-color: transparent;\n",
              "      border-bottom-color: var(--fill-color);\n",
              "      border-left-color: var(--fill-color);\n",
              "    }\n",
              "    20% {\n",
              "      border-color: transparent;\n",
              "      border-left-color: var(--fill-color);\n",
              "      border-top-color: var(--fill-color);\n",
              "    }\n",
              "    30% {\n",
              "      border-color: transparent;\n",
              "      border-left-color: var(--fill-color);\n",
              "      border-top-color: var(--fill-color);\n",
              "      border-right-color: var(--fill-color);\n",
              "    }\n",
              "    40% {\n",
              "      border-color: transparent;\n",
              "      border-right-color: var(--fill-color);\n",
              "      border-top-color: var(--fill-color);\n",
              "    }\n",
              "    60% {\n",
              "      border-color: transparent;\n",
              "      border-right-color: var(--fill-color);\n",
              "    }\n",
              "    80% {\n",
              "      border-color: transparent;\n",
              "      border-right-color: var(--fill-color);\n",
              "      border-bottom-color: var(--fill-color);\n",
              "    }\n",
              "    90% {\n",
              "      border-color: transparent;\n",
              "      border-bottom-color: var(--fill-color);\n",
              "    }\n",
              "  }\n",
              "</style>\n",
              "\n",
              "  <script>\n",
              "    async function quickchart(key) {\n",
              "      const quickchartButtonEl =\n",
              "        document.querySelector('#' + key + ' button');\n",
              "      quickchartButtonEl.disabled = true;  // To prevent multiple clicks.\n",
              "      quickchartButtonEl.classList.add('colab-df-spinner');\n",
              "      try {\n",
              "        const charts = await google.colab.kernel.invokeFunction(\n",
              "            'suggestCharts', [key], {});\n",
              "      } catch (error) {\n",
              "        console.error('Error during call to suggestCharts:', error);\n",
              "      }\n",
              "      quickchartButtonEl.classList.remove('colab-df-spinner');\n",
              "      quickchartButtonEl.classList.add('colab-df-quickchart-complete');\n",
              "    }\n",
              "    (() => {\n",
              "      let quickchartButtonEl =\n",
              "        document.querySelector('#df-31b25ca7-77ea-476f-94b2-ec77702f6bce button');\n",
              "      quickchartButtonEl.style.display =\n",
              "        google.colab.kernel.accessAllowed ? 'block' : 'none';\n",
              "    })();\n",
              "  </script>\n",
              "</div>\n",
              "\n",
              "    </div>\n",
              "  </div>\n"
            ]
          },
          "metadata": {},
          "execution_count": 4
        }
      ]
    },
    {
      "cell_type": "code",
      "source": [
        "df.tail(10)"
      ],
      "metadata": {
        "execution": {
          "iopub.status.busy": "2024-02-04T05:16:08.739299Z",
          "iopub.execute_input": "2024-02-04T05:16:08.739722Z",
          "iopub.status.idle": "2024-02-04T05:16:08.755198Z",
          "shell.execute_reply.started": "2024-02-04T05:16:08.739690Z",
          "shell.execute_reply": "2024-02-04T05:16:08.753929Z"
        },
        "trusted": true,
        "colab": {
          "base_uri": "https://localhost:8080/",
          "height": 363
        },
        "id": "8M5R_0GmPbe5",
        "outputId": "a5a513c7-760c-4209-a81e-ac1e0c64d0de"
      },
      "execution_count": 5,
      "outputs": [
        {
          "output_type": "execute_result",
          "data": {
            "text/plain": [
              "     age  sex  cp  trestbps  chol  fbs  restecg  thalach  exang  oldpeak  \\\n",
              "293   67    1   2       152   212    0        0      150      0      0.8   \n",
              "294   44    1   0       120   169    0        1      144      1      2.8   \n",
              "295   63    1   0       140   187    0        0      144      1      4.0   \n",
              "296   63    0   0       124   197    0        1      136      1      0.0   \n",
              "297   59    1   0       164   176    1        0       90      0      1.0   \n",
              "298   57    0   0       140   241    0        1      123      1      0.2   \n",
              "299   45    1   3       110   264    0        1      132      0      1.2   \n",
              "300   68    1   0       144   193    1        1      141      0      3.4   \n",
              "301   57    1   0       130   131    0        1      115      1      1.2   \n",
              "302   57    0   1       130   236    0        0      174      0      0.0   \n",
              "\n",
              "     slope  ca  thal  target  \n",
              "293      1   0     3       0  \n",
              "294      0   0     1       0  \n",
              "295      2   2     3       0  \n",
              "296      1   0     2       0  \n",
              "297      1   2     1       0  \n",
              "298      1   0     3       0  \n",
              "299      1   0     3       0  \n",
              "300      1   2     3       0  \n",
              "301      1   1     3       0  \n",
              "302      1   1     2       0  "
            ],
            "text/html": [
              "\n",
              "  <div id=\"df-bd639e18-e3c9-49d9-877e-b0d3966cbd82\" class=\"colab-df-container\">\n",
              "    <div>\n",
              "<style scoped>\n",
              "    .dataframe tbody tr th:only-of-type {\n",
              "        vertical-align: middle;\n",
              "    }\n",
              "\n",
              "    .dataframe tbody tr th {\n",
              "        vertical-align: top;\n",
              "    }\n",
              "\n",
              "    .dataframe thead th {\n",
              "        text-align: right;\n",
              "    }\n",
              "</style>\n",
              "<table border=\"1\" class=\"dataframe\">\n",
              "  <thead>\n",
              "    <tr style=\"text-align: right;\">\n",
              "      <th></th>\n",
              "      <th>age</th>\n",
              "      <th>sex</th>\n",
              "      <th>cp</th>\n",
              "      <th>trestbps</th>\n",
              "      <th>chol</th>\n",
              "      <th>fbs</th>\n",
              "      <th>restecg</th>\n",
              "      <th>thalach</th>\n",
              "      <th>exang</th>\n",
              "      <th>oldpeak</th>\n",
              "      <th>slope</th>\n",
              "      <th>ca</th>\n",
              "      <th>thal</th>\n",
              "      <th>target</th>\n",
              "    </tr>\n",
              "  </thead>\n",
              "  <tbody>\n",
              "    <tr>\n",
              "      <th>293</th>\n",
              "      <td>67</td>\n",
              "      <td>1</td>\n",
              "      <td>2</td>\n",
              "      <td>152</td>\n",
              "      <td>212</td>\n",
              "      <td>0</td>\n",
              "      <td>0</td>\n",
              "      <td>150</td>\n",
              "      <td>0</td>\n",
              "      <td>0.8</td>\n",
              "      <td>1</td>\n",
              "      <td>0</td>\n",
              "      <td>3</td>\n",
              "      <td>0</td>\n",
              "    </tr>\n",
              "    <tr>\n",
              "      <th>294</th>\n",
              "      <td>44</td>\n",
              "      <td>1</td>\n",
              "      <td>0</td>\n",
              "      <td>120</td>\n",
              "      <td>169</td>\n",
              "      <td>0</td>\n",
              "      <td>1</td>\n",
              "      <td>144</td>\n",
              "      <td>1</td>\n",
              "      <td>2.8</td>\n",
              "      <td>0</td>\n",
              "      <td>0</td>\n",
              "      <td>1</td>\n",
              "      <td>0</td>\n",
              "    </tr>\n",
              "    <tr>\n",
              "      <th>295</th>\n",
              "      <td>63</td>\n",
              "      <td>1</td>\n",
              "      <td>0</td>\n",
              "      <td>140</td>\n",
              "      <td>187</td>\n",
              "      <td>0</td>\n",
              "      <td>0</td>\n",
              "      <td>144</td>\n",
              "      <td>1</td>\n",
              "      <td>4.0</td>\n",
              "      <td>2</td>\n",
              "      <td>2</td>\n",
              "      <td>3</td>\n",
              "      <td>0</td>\n",
              "    </tr>\n",
              "    <tr>\n",
              "      <th>296</th>\n",
              "      <td>63</td>\n",
              "      <td>0</td>\n",
              "      <td>0</td>\n",
              "      <td>124</td>\n",
              "      <td>197</td>\n",
              "      <td>0</td>\n",
              "      <td>1</td>\n",
              "      <td>136</td>\n",
              "      <td>1</td>\n",
              "      <td>0.0</td>\n",
              "      <td>1</td>\n",
              "      <td>0</td>\n",
              "      <td>2</td>\n",
              "      <td>0</td>\n",
              "    </tr>\n",
              "    <tr>\n",
              "      <th>297</th>\n",
              "      <td>59</td>\n",
              "      <td>1</td>\n",
              "      <td>0</td>\n",
              "      <td>164</td>\n",
              "      <td>176</td>\n",
              "      <td>1</td>\n",
              "      <td>0</td>\n",
              "      <td>90</td>\n",
              "      <td>0</td>\n",
              "      <td>1.0</td>\n",
              "      <td>1</td>\n",
              "      <td>2</td>\n",
              "      <td>1</td>\n",
              "      <td>0</td>\n",
              "    </tr>\n",
              "    <tr>\n",
              "      <th>298</th>\n",
              "      <td>57</td>\n",
              "      <td>0</td>\n",
              "      <td>0</td>\n",
              "      <td>140</td>\n",
              "      <td>241</td>\n",
              "      <td>0</td>\n",
              "      <td>1</td>\n",
              "      <td>123</td>\n",
              "      <td>1</td>\n",
              "      <td>0.2</td>\n",
              "      <td>1</td>\n",
              "      <td>0</td>\n",
              "      <td>3</td>\n",
              "      <td>0</td>\n",
              "    </tr>\n",
              "    <tr>\n",
              "      <th>299</th>\n",
              "      <td>45</td>\n",
              "      <td>1</td>\n",
              "      <td>3</td>\n",
              "      <td>110</td>\n",
              "      <td>264</td>\n",
              "      <td>0</td>\n",
              "      <td>1</td>\n",
              "      <td>132</td>\n",
              "      <td>0</td>\n",
              "      <td>1.2</td>\n",
              "      <td>1</td>\n",
              "      <td>0</td>\n",
              "      <td>3</td>\n",
              "      <td>0</td>\n",
              "    </tr>\n",
              "    <tr>\n",
              "      <th>300</th>\n",
              "      <td>68</td>\n",
              "      <td>1</td>\n",
              "      <td>0</td>\n",
              "      <td>144</td>\n",
              "      <td>193</td>\n",
              "      <td>1</td>\n",
              "      <td>1</td>\n",
              "      <td>141</td>\n",
              "      <td>0</td>\n",
              "      <td>3.4</td>\n",
              "      <td>1</td>\n",
              "      <td>2</td>\n",
              "      <td>3</td>\n",
              "      <td>0</td>\n",
              "    </tr>\n",
              "    <tr>\n",
              "      <th>301</th>\n",
              "      <td>57</td>\n",
              "      <td>1</td>\n",
              "      <td>0</td>\n",
              "      <td>130</td>\n",
              "      <td>131</td>\n",
              "      <td>0</td>\n",
              "      <td>1</td>\n",
              "      <td>115</td>\n",
              "      <td>1</td>\n",
              "      <td>1.2</td>\n",
              "      <td>1</td>\n",
              "      <td>1</td>\n",
              "      <td>3</td>\n",
              "      <td>0</td>\n",
              "    </tr>\n",
              "    <tr>\n",
              "      <th>302</th>\n",
              "      <td>57</td>\n",
              "      <td>0</td>\n",
              "      <td>1</td>\n",
              "      <td>130</td>\n",
              "      <td>236</td>\n",
              "      <td>0</td>\n",
              "      <td>0</td>\n",
              "      <td>174</td>\n",
              "      <td>0</td>\n",
              "      <td>0.0</td>\n",
              "      <td>1</td>\n",
              "      <td>1</td>\n",
              "      <td>2</td>\n",
              "      <td>0</td>\n",
              "    </tr>\n",
              "  </tbody>\n",
              "</table>\n",
              "</div>\n",
              "    <div class=\"colab-df-buttons\">\n",
              "\n",
              "  <div class=\"colab-df-container\">\n",
              "    <button class=\"colab-df-convert\" onclick=\"convertToInteractive('df-bd639e18-e3c9-49d9-877e-b0d3966cbd82')\"\n",
              "            title=\"Convert this dataframe to an interactive table.\"\n",
              "            style=\"display:none;\">\n",
              "\n",
              "  <svg xmlns=\"http://www.w3.org/2000/svg\" height=\"24px\" viewBox=\"0 -960 960 960\">\n",
              "    <path d=\"M120-120v-720h720v720H120Zm60-500h600v-160H180v160Zm220 220h160v-160H400v160Zm0 220h160v-160H400v160ZM180-400h160v-160H180v160Zm440 0h160v-160H620v160ZM180-180h160v-160H180v160Zm440 0h160v-160H620v160Z\"/>\n",
              "  </svg>\n",
              "    </button>\n",
              "\n",
              "  <style>\n",
              "    .colab-df-container {\n",
              "      display:flex;\n",
              "      gap: 12px;\n",
              "    }\n",
              "\n",
              "    .colab-df-convert {\n",
              "      background-color: #E8F0FE;\n",
              "      border: none;\n",
              "      border-radius: 50%;\n",
              "      cursor: pointer;\n",
              "      display: none;\n",
              "      fill: #1967D2;\n",
              "      height: 32px;\n",
              "      padding: 0 0 0 0;\n",
              "      width: 32px;\n",
              "    }\n",
              "\n",
              "    .colab-df-convert:hover {\n",
              "      background-color: #E2EBFA;\n",
              "      box-shadow: 0px 1px 2px rgba(60, 64, 67, 0.3), 0px 1px 3px 1px rgba(60, 64, 67, 0.15);\n",
              "      fill: #174EA6;\n",
              "    }\n",
              "\n",
              "    .colab-df-buttons div {\n",
              "      margin-bottom: 4px;\n",
              "    }\n",
              "\n",
              "    [theme=dark] .colab-df-convert {\n",
              "      background-color: #3B4455;\n",
              "      fill: #D2E3FC;\n",
              "    }\n",
              "\n",
              "    [theme=dark] .colab-df-convert:hover {\n",
              "      background-color: #434B5C;\n",
              "      box-shadow: 0px 1px 3px 1px rgba(0, 0, 0, 0.15);\n",
              "      filter: drop-shadow(0px 1px 2px rgba(0, 0, 0, 0.3));\n",
              "      fill: #FFFFFF;\n",
              "    }\n",
              "  </style>\n",
              "\n",
              "    <script>\n",
              "      const buttonEl =\n",
              "        document.querySelector('#df-bd639e18-e3c9-49d9-877e-b0d3966cbd82 button.colab-df-convert');\n",
              "      buttonEl.style.display =\n",
              "        google.colab.kernel.accessAllowed ? 'block' : 'none';\n",
              "\n",
              "      async function convertToInteractive(key) {\n",
              "        const element = document.querySelector('#df-bd639e18-e3c9-49d9-877e-b0d3966cbd82');\n",
              "        const dataTable =\n",
              "          await google.colab.kernel.invokeFunction('convertToInteractive',\n",
              "                                                    [key], {});\n",
              "        if (!dataTable) return;\n",
              "\n",
              "        const docLinkHtml = 'Like what you see? Visit the ' +\n",
              "          '<a target=\"_blank\" href=https://colab.research.google.com/notebooks/data_table.ipynb>data table notebook</a>'\n",
              "          + ' to learn more about interactive tables.';\n",
              "        element.innerHTML = '';\n",
              "        dataTable['output_type'] = 'display_data';\n",
              "        await google.colab.output.renderOutput(dataTable, element);\n",
              "        const docLink = document.createElement('div');\n",
              "        docLink.innerHTML = docLinkHtml;\n",
              "        element.appendChild(docLink);\n",
              "      }\n",
              "    </script>\n",
              "  </div>\n",
              "\n",
              "\n",
              "<div id=\"df-bdc73ed8-aba5-47b7-919f-830ea531e95d\">\n",
              "  <button class=\"colab-df-quickchart\" onclick=\"quickchart('df-bdc73ed8-aba5-47b7-919f-830ea531e95d')\"\n",
              "            title=\"Suggest charts\"\n",
              "            style=\"display:none;\">\n",
              "\n",
              "<svg xmlns=\"http://www.w3.org/2000/svg\" height=\"24px\"viewBox=\"0 0 24 24\"\n",
              "     width=\"24px\">\n",
              "    <g>\n",
              "        <path d=\"M19 3H5c-1.1 0-2 .9-2 2v14c0 1.1.9 2 2 2h14c1.1 0 2-.9 2-2V5c0-1.1-.9-2-2-2zM9 17H7v-7h2v7zm4 0h-2V7h2v10zm4 0h-2v-4h2v4z\"/>\n",
              "    </g>\n",
              "</svg>\n",
              "  </button>\n",
              "\n",
              "<style>\n",
              "  .colab-df-quickchart {\n",
              "      --bg-color: #E8F0FE;\n",
              "      --fill-color: #1967D2;\n",
              "      --hover-bg-color: #E2EBFA;\n",
              "      --hover-fill-color: #174EA6;\n",
              "      --disabled-fill-color: #AAA;\n",
              "      --disabled-bg-color: #DDD;\n",
              "  }\n",
              "\n",
              "  [theme=dark] .colab-df-quickchart {\n",
              "      --bg-color: #3B4455;\n",
              "      --fill-color: #D2E3FC;\n",
              "      --hover-bg-color: #434B5C;\n",
              "      --hover-fill-color: #FFFFFF;\n",
              "      --disabled-bg-color: #3B4455;\n",
              "      --disabled-fill-color: #666;\n",
              "  }\n",
              "\n",
              "  .colab-df-quickchart {\n",
              "    background-color: var(--bg-color);\n",
              "    border: none;\n",
              "    border-radius: 50%;\n",
              "    cursor: pointer;\n",
              "    display: none;\n",
              "    fill: var(--fill-color);\n",
              "    height: 32px;\n",
              "    padding: 0;\n",
              "    width: 32px;\n",
              "  }\n",
              "\n",
              "  .colab-df-quickchart:hover {\n",
              "    background-color: var(--hover-bg-color);\n",
              "    box-shadow: 0 1px 2px rgba(60, 64, 67, 0.3), 0 1px 3px 1px rgba(60, 64, 67, 0.15);\n",
              "    fill: var(--button-hover-fill-color);\n",
              "  }\n",
              "\n",
              "  .colab-df-quickchart-complete:disabled,\n",
              "  .colab-df-quickchart-complete:disabled:hover {\n",
              "    background-color: var(--disabled-bg-color);\n",
              "    fill: var(--disabled-fill-color);\n",
              "    box-shadow: none;\n",
              "  }\n",
              "\n",
              "  .colab-df-spinner {\n",
              "    border: 2px solid var(--fill-color);\n",
              "    border-color: transparent;\n",
              "    border-bottom-color: var(--fill-color);\n",
              "    animation:\n",
              "      spin 1s steps(1) infinite;\n",
              "  }\n",
              "\n",
              "  @keyframes spin {\n",
              "    0% {\n",
              "      border-color: transparent;\n",
              "      border-bottom-color: var(--fill-color);\n",
              "      border-left-color: var(--fill-color);\n",
              "    }\n",
              "    20% {\n",
              "      border-color: transparent;\n",
              "      border-left-color: var(--fill-color);\n",
              "      border-top-color: var(--fill-color);\n",
              "    }\n",
              "    30% {\n",
              "      border-color: transparent;\n",
              "      border-left-color: var(--fill-color);\n",
              "      border-top-color: var(--fill-color);\n",
              "      border-right-color: var(--fill-color);\n",
              "    }\n",
              "    40% {\n",
              "      border-color: transparent;\n",
              "      border-right-color: var(--fill-color);\n",
              "      border-top-color: var(--fill-color);\n",
              "    }\n",
              "    60% {\n",
              "      border-color: transparent;\n",
              "      border-right-color: var(--fill-color);\n",
              "    }\n",
              "    80% {\n",
              "      border-color: transparent;\n",
              "      border-right-color: var(--fill-color);\n",
              "      border-bottom-color: var(--fill-color);\n",
              "    }\n",
              "    90% {\n",
              "      border-color: transparent;\n",
              "      border-bottom-color: var(--fill-color);\n",
              "    }\n",
              "  }\n",
              "</style>\n",
              "\n",
              "  <script>\n",
              "    async function quickchart(key) {\n",
              "      const quickchartButtonEl =\n",
              "        document.querySelector('#' + key + ' button');\n",
              "      quickchartButtonEl.disabled = true;  // To prevent multiple clicks.\n",
              "      quickchartButtonEl.classList.add('colab-df-spinner');\n",
              "      try {\n",
              "        const charts = await google.colab.kernel.invokeFunction(\n",
              "            'suggestCharts', [key], {});\n",
              "      } catch (error) {\n",
              "        console.error('Error during call to suggestCharts:', error);\n",
              "      }\n",
              "      quickchartButtonEl.classList.remove('colab-df-spinner');\n",
              "      quickchartButtonEl.classList.add('colab-df-quickchart-complete');\n",
              "    }\n",
              "    (() => {\n",
              "      let quickchartButtonEl =\n",
              "        document.querySelector('#df-bdc73ed8-aba5-47b7-919f-830ea531e95d button');\n",
              "      quickchartButtonEl.style.display =\n",
              "        google.colab.kernel.accessAllowed ? 'block' : 'none';\n",
              "    })();\n",
              "  </script>\n",
              "</div>\n",
              "\n",
              "    </div>\n",
              "  </div>\n"
            ]
          },
          "metadata": {},
          "execution_count": 5
        }
      ]
    },
    {
      "cell_type": "code",
      "source": [
        "df.columns"
      ],
      "metadata": {
        "execution": {
          "iopub.status.busy": "2024-02-04T05:16:08.756516Z",
          "iopub.execute_input": "2024-02-04T05:16:08.757633Z",
          "iopub.status.idle": "2024-02-04T05:16:08.765402Z",
          "shell.execute_reply.started": "2024-02-04T05:16:08.757591Z",
          "shell.execute_reply": "2024-02-04T05:16:08.764009Z"
        },
        "trusted": true,
        "colab": {
          "base_uri": "https://localhost:8080/"
        },
        "id": "YS_CM3CdPbe6",
        "outputId": "af5dbfd0-e3b7-48d0-ef6b-6bd252b158f5"
      },
      "execution_count": 6,
      "outputs": [
        {
          "output_type": "execute_result",
          "data": {
            "text/plain": [
              "Index(['age', 'sex', 'cp', 'trestbps', 'chol', 'fbs', 'restecg', 'thalach',\n",
              "       'exang', 'oldpeak', 'slope', 'ca', 'thal', 'target'],\n",
              "      dtype='object')"
            ]
          },
          "metadata": {},
          "execution_count": 6
        }
      ]
    },
    {
      "cell_type": "code",
      "source": [
        "df.dtypes"
      ],
      "metadata": {
        "execution": {
          "iopub.status.busy": "2024-02-04T05:16:08.767319Z",
          "iopub.execute_input": "2024-02-04T05:16:08.768196Z",
          "iopub.status.idle": "2024-02-04T05:16:08.778370Z",
          "shell.execute_reply.started": "2024-02-04T05:16:08.768155Z",
          "shell.execute_reply": "2024-02-04T05:16:08.777422Z"
        },
        "trusted": true,
        "colab": {
          "base_uri": "https://localhost:8080/"
        },
        "id": "Uwoe6giIPbe6",
        "outputId": "ed6e6d1d-11f1-481d-95b2-5a8629b02b71"
      },
      "execution_count": 7,
      "outputs": [
        {
          "output_type": "execute_result",
          "data": {
            "text/plain": [
              "age           int64\n",
              "sex           int64\n",
              "cp            int64\n",
              "trestbps      int64\n",
              "chol          int64\n",
              "fbs           int64\n",
              "restecg       int64\n",
              "thalach       int64\n",
              "exang         int64\n",
              "oldpeak     float64\n",
              "slope         int64\n",
              "ca            int64\n",
              "thal          int64\n",
              "target        int64\n",
              "dtype: object"
            ]
          },
          "metadata": {},
          "execution_count": 7
        }
      ]
    },
    {
      "cell_type": "code",
      "source": [
        "df.info()"
      ],
      "metadata": {
        "execution": {
          "iopub.status.busy": "2024-02-04T05:16:08.780258Z",
          "iopub.execute_input": "2024-02-04T05:16:08.780724Z",
          "iopub.status.idle": "2024-02-04T05:16:08.795487Z",
          "shell.execute_reply.started": "2024-02-04T05:16:08.780691Z",
          "shell.execute_reply": "2024-02-04T05:16:08.794123Z"
        },
        "trusted": true,
        "colab": {
          "base_uri": "https://localhost:8080/"
        },
        "id": "mPLhDYmNPbe7",
        "outputId": "78b92135-8e8c-4cda-a249-b12fbde764a9"
      },
      "execution_count": 8,
      "outputs": [
        {
          "output_type": "stream",
          "name": "stdout",
          "text": [
            "<class 'pandas.core.frame.DataFrame'>\n",
            "RangeIndex: 303 entries, 0 to 302\n",
            "Data columns (total 14 columns):\n",
            " #   Column    Non-Null Count  Dtype  \n",
            "---  ------    --------------  -----  \n",
            " 0   age       303 non-null    int64  \n",
            " 1   sex       303 non-null    int64  \n",
            " 2   cp        303 non-null    int64  \n",
            " 3   trestbps  303 non-null    int64  \n",
            " 4   chol      303 non-null    int64  \n",
            " 5   fbs       303 non-null    int64  \n",
            " 6   restecg   303 non-null    int64  \n",
            " 7   thalach   303 non-null    int64  \n",
            " 8   exang     303 non-null    int64  \n",
            " 9   oldpeak   303 non-null    float64\n",
            " 10  slope     303 non-null    int64  \n",
            " 11  ca        303 non-null    int64  \n",
            " 12  thal      303 non-null    int64  \n",
            " 13  target    303 non-null    int64  \n",
            "dtypes: float64(1), int64(13)\n",
            "memory usage: 33.3 KB\n"
          ]
        }
      ]
    },
    {
      "cell_type": "code",
      "source": [
        "df.describe()"
      ],
      "metadata": {
        "execution": {
          "iopub.status.busy": "2024-02-04T05:16:08.797192Z",
          "iopub.execute_input": "2024-02-04T05:16:08.797953Z",
          "iopub.status.idle": "2024-02-04T05:16:08.835748Z",
          "shell.execute_reply.started": "2024-02-04T05:16:08.797847Z",
          "shell.execute_reply": "2024-02-04T05:16:08.834867Z"
        },
        "trusted": true,
        "colab": {
          "base_uri": "https://localhost:8080/",
          "height": 320
        },
        "id": "H0B0YnvfPbe7",
        "outputId": "53f8c079-23c5-48f4-e900-8f8954341e20"
      },
      "execution_count": 9,
      "outputs": [
        {
          "output_type": "execute_result",
          "data": {
            "text/plain": [
              "              age         sex          cp    trestbps        chol         fbs  \\\n",
              "count  303.000000  303.000000  303.000000  303.000000  303.000000  303.000000   \n",
              "mean    54.366337    0.683168    0.966997  131.623762  246.264026    0.148515   \n",
              "std      9.082101    0.466011    1.032052   17.538143   51.830751    0.356198   \n",
              "min     29.000000    0.000000    0.000000   94.000000  126.000000    0.000000   \n",
              "25%     47.500000    0.000000    0.000000  120.000000  211.000000    0.000000   \n",
              "50%     55.000000    1.000000    1.000000  130.000000  240.000000    0.000000   \n",
              "75%     61.000000    1.000000    2.000000  140.000000  274.500000    0.000000   \n",
              "max     77.000000    1.000000    3.000000  200.000000  564.000000    1.000000   \n",
              "\n",
              "          restecg     thalach       exang     oldpeak       slope          ca  \\\n",
              "count  303.000000  303.000000  303.000000  303.000000  303.000000  303.000000   \n",
              "mean     0.528053  149.646865    0.326733    1.039604    1.399340    0.729373   \n",
              "std      0.525860   22.905161    0.469794    1.161075    0.616226    1.022606   \n",
              "min      0.000000   71.000000    0.000000    0.000000    0.000000    0.000000   \n",
              "25%      0.000000  133.500000    0.000000    0.000000    1.000000    0.000000   \n",
              "50%      1.000000  153.000000    0.000000    0.800000    1.000000    0.000000   \n",
              "75%      1.000000  166.000000    1.000000    1.600000    2.000000    1.000000   \n",
              "max      2.000000  202.000000    1.000000    6.200000    2.000000    4.000000   \n",
              "\n",
              "             thal      target  \n",
              "count  303.000000  303.000000  \n",
              "mean     2.313531    0.544554  \n",
              "std      0.612277    0.498835  \n",
              "min      0.000000    0.000000  \n",
              "25%      2.000000    0.000000  \n",
              "50%      2.000000    1.000000  \n",
              "75%      3.000000    1.000000  \n",
              "max      3.000000    1.000000  "
            ],
            "text/html": [
              "\n",
              "  <div id=\"df-2222efc3-fcdd-4711-a47a-8db16eeab1d3\" class=\"colab-df-container\">\n",
              "    <div>\n",
              "<style scoped>\n",
              "    .dataframe tbody tr th:only-of-type {\n",
              "        vertical-align: middle;\n",
              "    }\n",
              "\n",
              "    .dataframe tbody tr th {\n",
              "        vertical-align: top;\n",
              "    }\n",
              "\n",
              "    .dataframe thead th {\n",
              "        text-align: right;\n",
              "    }\n",
              "</style>\n",
              "<table border=\"1\" class=\"dataframe\">\n",
              "  <thead>\n",
              "    <tr style=\"text-align: right;\">\n",
              "      <th></th>\n",
              "      <th>age</th>\n",
              "      <th>sex</th>\n",
              "      <th>cp</th>\n",
              "      <th>trestbps</th>\n",
              "      <th>chol</th>\n",
              "      <th>fbs</th>\n",
              "      <th>restecg</th>\n",
              "      <th>thalach</th>\n",
              "      <th>exang</th>\n",
              "      <th>oldpeak</th>\n",
              "      <th>slope</th>\n",
              "      <th>ca</th>\n",
              "      <th>thal</th>\n",
              "      <th>target</th>\n",
              "    </tr>\n",
              "  </thead>\n",
              "  <tbody>\n",
              "    <tr>\n",
              "      <th>count</th>\n",
              "      <td>303.000000</td>\n",
              "      <td>303.000000</td>\n",
              "      <td>303.000000</td>\n",
              "      <td>303.000000</td>\n",
              "      <td>303.000000</td>\n",
              "      <td>303.000000</td>\n",
              "      <td>303.000000</td>\n",
              "      <td>303.000000</td>\n",
              "      <td>303.000000</td>\n",
              "      <td>303.000000</td>\n",
              "      <td>303.000000</td>\n",
              "      <td>303.000000</td>\n",
              "      <td>303.000000</td>\n",
              "      <td>303.000000</td>\n",
              "    </tr>\n",
              "    <tr>\n",
              "      <th>mean</th>\n",
              "      <td>54.366337</td>\n",
              "      <td>0.683168</td>\n",
              "      <td>0.966997</td>\n",
              "      <td>131.623762</td>\n",
              "      <td>246.264026</td>\n",
              "      <td>0.148515</td>\n",
              "      <td>0.528053</td>\n",
              "      <td>149.646865</td>\n",
              "      <td>0.326733</td>\n",
              "      <td>1.039604</td>\n",
              "      <td>1.399340</td>\n",
              "      <td>0.729373</td>\n",
              "      <td>2.313531</td>\n",
              "      <td>0.544554</td>\n",
              "    </tr>\n",
              "    <tr>\n",
              "      <th>std</th>\n",
              "      <td>9.082101</td>\n",
              "      <td>0.466011</td>\n",
              "      <td>1.032052</td>\n",
              "      <td>17.538143</td>\n",
              "      <td>51.830751</td>\n",
              "      <td>0.356198</td>\n",
              "      <td>0.525860</td>\n",
              "      <td>22.905161</td>\n",
              "      <td>0.469794</td>\n",
              "      <td>1.161075</td>\n",
              "      <td>0.616226</td>\n",
              "      <td>1.022606</td>\n",
              "      <td>0.612277</td>\n",
              "      <td>0.498835</td>\n",
              "    </tr>\n",
              "    <tr>\n",
              "      <th>min</th>\n",
              "      <td>29.000000</td>\n",
              "      <td>0.000000</td>\n",
              "      <td>0.000000</td>\n",
              "      <td>94.000000</td>\n",
              "      <td>126.000000</td>\n",
              "      <td>0.000000</td>\n",
              "      <td>0.000000</td>\n",
              "      <td>71.000000</td>\n",
              "      <td>0.000000</td>\n",
              "      <td>0.000000</td>\n",
              "      <td>0.000000</td>\n",
              "      <td>0.000000</td>\n",
              "      <td>0.000000</td>\n",
              "      <td>0.000000</td>\n",
              "    </tr>\n",
              "    <tr>\n",
              "      <th>25%</th>\n",
              "      <td>47.500000</td>\n",
              "      <td>0.000000</td>\n",
              "      <td>0.000000</td>\n",
              "      <td>120.000000</td>\n",
              "      <td>211.000000</td>\n",
              "      <td>0.000000</td>\n",
              "      <td>0.000000</td>\n",
              "      <td>133.500000</td>\n",
              "      <td>0.000000</td>\n",
              "      <td>0.000000</td>\n",
              "      <td>1.000000</td>\n",
              "      <td>0.000000</td>\n",
              "      <td>2.000000</td>\n",
              "      <td>0.000000</td>\n",
              "    </tr>\n",
              "    <tr>\n",
              "      <th>50%</th>\n",
              "      <td>55.000000</td>\n",
              "      <td>1.000000</td>\n",
              "      <td>1.000000</td>\n",
              "      <td>130.000000</td>\n",
              "      <td>240.000000</td>\n",
              "      <td>0.000000</td>\n",
              "      <td>1.000000</td>\n",
              "      <td>153.000000</td>\n",
              "      <td>0.000000</td>\n",
              "      <td>0.800000</td>\n",
              "      <td>1.000000</td>\n",
              "      <td>0.000000</td>\n",
              "      <td>2.000000</td>\n",
              "      <td>1.000000</td>\n",
              "    </tr>\n",
              "    <tr>\n",
              "      <th>75%</th>\n",
              "      <td>61.000000</td>\n",
              "      <td>1.000000</td>\n",
              "      <td>2.000000</td>\n",
              "      <td>140.000000</td>\n",
              "      <td>274.500000</td>\n",
              "      <td>0.000000</td>\n",
              "      <td>1.000000</td>\n",
              "      <td>166.000000</td>\n",
              "      <td>1.000000</td>\n",
              "      <td>1.600000</td>\n",
              "      <td>2.000000</td>\n",
              "      <td>1.000000</td>\n",
              "      <td>3.000000</td>\n",
              "      <td>1.000000</td>\n",
              "    </tr>\n",
              "    <tr>\n",
              "      <th>max</th>\n",
              "      <td>77.000000</td>\n",
              "      <td>1.000000</td>\n",
              "      <td>3.000000</td>\n",
              "      <td>200.000000</td>\n",
              "      <td>564.000000</td>\n",
              "      <td>1.000000</td>\n",
              "      <td>2.000000</td>\n",
              "      <td>202.000000</td>\n",
              "      <td>1.000000</td>\n",
              "      <td>6.200000</td>\n",
              "      <td>2.000000</td>\n",
              "      <td>4.000000</td>\n",
              "      <td>3.000000</td>\n",
              "      <td>1.000000</td>\n",
              "    </tr>\n",
              "  </tbody>\n",
              "</table>\n",
              "</div>\n",
              "    <div class=\"colab-df-buttons\">\n",
              "\n",
              "  <div class=\"colab-df-container\">\n",
              "    <button class=\"colab-df-convert\" onclick=\"convertToInteractive('df-2222efc3-fcdd-4711-a47a-8db16eeab1d3')\"\n",
              "            title=\"Convert this dataframe to an interactive table.\"\n",
              "            style=\"display:none;\">\n",
              "\n",
              "  <svg xmlns=\"http://www.w3.org/2000/svg\" height=\"24px\" viewBox=\"0 -960 960 960\">\n",
              "    <path d=\"M120-120v-720h720v720H120Zm60-500h600v-160H180v160Zm220 220h160v-160H400v160Zm0 220h160v-160H400v160ZM180-400h160v-160H180v160Zm440 0h160v-160H620v160ZM180-180h160v-160H180v160Zm440 0h160v-160H620v160Z\"/>\n",
              "  </svg>\n",
              "    </button>\n",
              "\n",
              "  <style>\n",
              "    .colab-df-container {\n",
              "      display:flex;\n",
              "      gap: 12px;\n",
              "    }\n",
              "\n",
              "    .colab-df-convert {\n",
              "      background-color: #E8F0FE;\n",
              "      border: none;\n",
              "      border-radius: 50%;\n",
              "      cursor: pointer;\n",
              "      display: none;\n",
              "      fill: #1967D2;\n",
              "      height: 32px;\n",
              "      padding: 0 0 0 0;\n",
              "      width: 32px;\n",
              "    }\n",
              "\n",
              "    .colab-df-convert:hover {\n",
              "      background-color: #E2EBFA;\n",
              "      box-shadow: 0px 1px 2px rgba(60, 64, 67, 0.3), 0px 1px 3px 1px rgba(60, 64, 67, 0.15);\n",
              "      fill: #174EA6;\n",
              "    }\n",
              "\n",
              "    .colab-df-buttons div {\n",
              "      margin-bottom: 4px;\n",
              "    }\n",
              "\n",
              "    [theme=dark] .colab-df-convert {\n",
              "      background-color: #3B4455;\n",
              "      fill: #D2E3FC;\n",
              "    }\n",
              "\n",
              "    [theme=dark] .colab-df-convert:hover {\n",
              "      background-color: #434B5C;\n",
              "      box-shadow: 0px 1px 3px 1px rgba(0, 0, 0, 0.15);\n",
              "      filter: drop-shadow(0px 1px 2px rgba(0, 0, 0, 0.3));\n",
              "      fill: #FFFFFF;\n",
              "    }\n",
              "  </style>\n",
              "\n",
              "    <script>\n",
              "      const buttonEl =\n",
              "        document.querySelector('#df-2222efc3-fcdd-4711-a47a-8db16eeab1d3 button.colab-df-convert');\n",
              "      buttonEl.style.display =\n",
              "        google.colab.kernel.accessAllowed ? 'block' : 'none';\n",
              "\n",
              "      async function convertToInteractive(key) {\n",
              "        const element = document.querySelector('#df-2222efc3-fcdd-4711-a47a-8db16eeab1d3');\n",
              "        const dataTable =\n",
              "          await google.colab.kernel.invokeFunction('convertToInteractive',\n",
              "                                                    [key], {});\n",
              "        if (!dataTable) return;\n",
              "\n",
              "        const docLinkHtml = 'Like what you see? Visit the ' +\n",
              "          '<a target=\"_blank\" href=https://colab.research.google.com/notebooks/data_table.ipynb>data table notebook</a>'\n",
              "          + ' to learn more about interactive tables.';\n",
              "        element.innerHTML = '';\n",
              "        dataTable['output_type'] = 'display_data';\n",
              "        await google.colab.output.renderOutput(dataTable, element);\n",
              "        const docLink = document.createElement('div');\n",
              "        docLink.innerHTML = docLinkHtml;\n",
              "        element.appendChild(docLink);\n",
              "      }\n",
              "    </script>\n",
              "  </div>\n",
              "\n",
              "\n",
              "<div id=\"df-a69466ef-4520-476e-b830-ee24b236fab8\">\n",
              "  <button class=\"colab-df-quickchart\" onclick=\"quickchart('df-a69466ef-4520-476e-b830-ee24b236fab8')\"\n",
              "            title=\"Suggest charts\"\n",
              "            style=\"display:none;\">\n",
              "\n",
              "<svg xmlns=\"http://www.w3.org/2000/svg\" height=\"24px\"viewBox=\"0 0 24 24\"\n",
              "     width=\"24px\">\n",
              "    <g>\n",
              "        <path d=\"M19 3H5c-1.1 0-2 .9-2 2v14c0 1.1.9 2 2 2h14c1.1 0 2-.9 2-2V5c0-1.1-.9-2-2-2zM9 17H7v-7h2v7zm4 0h-2V7h2v10zm4 0h-2v-4h2v4z\"/>\n",
              "    </g>\n",
              "</svg>\n",
              "  </button>\n",
              "\n",
              "<style>\n",
              "  .colab-df-quickchart {\n",
              "      --bg-color: #E8F0FE;\n",
              "      --fill-color: #1967D2;\n",
              "      --hover-bg-color: #E2EBFA;\n",
              "      --hover-fill-color: #174EA6;\n",
              "      --disabled-fill-color: #AAA;\n",
              "      --disabled-bg-color: #DDD;\n",
              "  }\n",
              "\n",
              "  [theme=dark] .colab-df-quickchart {\n",
              "      --bg-color: #3B4455;\n",
              "      --fill-color: #D2E3FC;\n",
              "      --hover-bg-color: #434B5C;\n",
              "      --hover-fill-color: #FFFFFF;\n",
              "      --disabled-bg-color: #3B4455;\n",
              "      --disabled-fill-color: #666;\n",
              "  }\n",
              "\n",
              "  .colab-df-quickchart {\n",
              "    background-color: var(--bg-color);\n",
              "    border: none;\n",
              "    border-radius: 50%;\n",
              "    cursor: pointer;\n",
              "    display: none;\n",
              "    fill: var(--fill-color);\n",
              "    height: 32px;\n",
              "    padding: 0;\n",
              "    width: 32px;\n",
              "  }\n",
              "\n",
              "  .colab-df-quickchart:hover {\n",
              "    background-color: var(--hover-bg-color);\n",
              "    box-shadow: 0 1px 2px rgba(60, 64, 67, 0.3), 0 1px 3px 1px rgba(60, 64, 67, 0.15);\n",
              "    fill: var(--button-hover-fill-color);\n",
              "  }\n",
              "\n",
              "  .colab-df-quickchart-complete:disabled,\n",
              "  .colab-df-quickchart-complete:disabled:hover {\n",
              "    background-color: var(--disabled-bg-color);\n",
              "    fill: var(--disabled-fill-color);\n",
              "    box-shadow: none;\n",
              "  }\n",
              "\n",
              "  .colab-df-spinner {\n",
              "    border: 2px solid var(--fill-color);\n",
              "    border-color: transparent;\n",
              "    border-bottom-color: var(--fill-color);\n",
              "    animation:\n",
              "      spin 1s steps(1) infinite;\n",
              "  }\n",
              "\n",
              "  @keyframes spin {\n",
              "    0% {\n",
              "      border-color: transparent;\n",
              "      border-bottom-color: var(--fill-color);\n",
              "      border-left-color: var(--fill-color);\n",
              "    }\n",
              "    20% {\n",
              "      border-color: transparent;\n",
              "      border-left-color: var(--fill-color);\n",
              "      border-top-color: var(--fill-color);\n",
              "    }\n",
              "    30% {\n",
              "      border-color: transparent;\n",
              "      border-left-color: var(--fill-color);\n",
              "      border-top-color: var(--fill-color);\n",
              "      border-right-color: var(--fill-color);\n",
              "    }\n",
              "    40% {\n",
              "      border-color: transparent;\n",
              "      border-right-color: var(--fill-color);\n",
              "      border-top-color: var(--fill-color);\n",
              "    }\n",
              "    60% {\n",
              "      border-color: transparent;\n",
              "      border-right-color: var(--fill-color);\n",
              "    }\n",
              "    80% {\n",
              "      border-color: transparent;\n",
              "      border-right-color: var(--fill-color);\n",
              "      border-bottom-color: var(--fill-color);\n",
              "    }\n",
              "    90% {\n",
              "      border-color: transparent;\n",
              "      border-bottom-color: var(--fill-color);\n",
              "    }\n",
              "  }\n",
              "</style>\n",
              "\n",
              "  <script>\n",
              "    async function quickchart(key) {\n",
              "      const quickchartButtonEl =\n",
              "        document.querySelector('#' + key + ' button');\n",
              "      quickchartButtonEl.disabled = true;  // To prevent multiple clicks.\n",
              "      quickchartButtonEl.classList.add('colab-df-spinner');\n",
              "      try {\n",
              "        const charts = await google.colab.kernel.invokeFunction(\n",
              "            'suggestCharts', [key], {});\n",
              "      } catch (error) {\n",
              "        console.error('Error during call to suggestCharts:', error);\n",
              "      }\n",
              "      quickchartButtonEl.classList.remove('colab-df-spinner');\n",
              "      quickchartButtonEl.classList.add('colab-df-quickchart-complete');\n",
              "    }\n",
              "    (() => {\n",
              "      let quickchartButtonEl =\n",
              "        document.querySelector('#df-a69466ef-4520-476e-b830-ee24b236fab8 button');\n",
              "      quickchartButtonEl.style.display =\n",
              "        google.colab.kernel.accessAllowed ? 'block' : 'none';\n",
              "    })();\n",
              "  </script>\n",
              "</div>\n",
              "\n",
              "    </div>\n",
              "  </div>\n"
            ]
          },
          "metadata": {},
          "execution_count": 9
        }
      ]
    },
    {
      "cell_type": "markdown",
      "source": [
        "# ***Checking for Null Values***"
      ],
      "metadata": {
        "id": "gkL7tyNHPbe8"
      }
    },
    {
      "cell_type": "code",
      "source": [
        "df.isnull().any()"
      ],
      "metadata": {
        "execution": {
          "iopub.status.busy": "2024-02-04T05:16:08.838373Z",
          "iopub.execute_input": "2024-02-04T05:16:08.838672Z",
          "iopub.status.idle": "2024-02-04T05:16:08.847425Z",
          "shell.execute_reply.started": "2024-02-04T05:16:08.838650Z",
          "shell.execute_reply": "2024-02-04T05:16:08.846509Z"
        },
        "trusted": true,
        "colab": {
          "base_uri": "https://localhost:8080/"
        },
        "id": "Fo1vV_ajPbe8",
        "outputId": "32f791e7-e7f1-4dee-f86e-b078cc671fe8"
      },
      "execution_count": 10,
      "outputs": [
        {
          "output_type": "execute_result",
          "data": {
            "text/plain": [
              "age         False\n",
              "sex         False\n",
              "cp          False\n",
              "trestbps    False\n",
              "chol        False\n",
              "fbs         False\n",
              "restecg     False\n",
              "thalach     False\n",
              "exang       False\n",
              "oldpeak     False\n",
              "slope       False\n",
              "ca          False\n",
              "thal        False\n",
              "target      False\n",
              "dtype: bool"
            ]
          },
          "metadata": {},
          "execution_count": 10
        }
      ]
    },
    {
      "cell_type": "markdown",
      "source": [
        "# ***Checking for Duplicates***"
      ],
      "metadata": {
        "id": "CpQXRflgPbe9"
      }
    },
    {
      "cell_type": "code",
      "source": [
        "df.duplicated().sum()"
      ],
      "metadata": {
        "execution": {
          "iopub.status.busy": "2024-02-04T05:16:08.849056Z",
          "iopub.execute_input": "2024-02-04T05:16:08.849417Z",
          "iopub.status.idle": "2024-02-04T05:16:08.861142Z",
          "shell.execute_reply.started": "2024-02-04T05:16:08.849390Z",
          "shell.execute_reply": "2024-02-04T05:16:08.860098Z"
        },
        "trusted": true,
        "colab": {
          "base_uri": "https://localhost:8080/"
        },
        "id": "0qFb29GnPbe9",
        "outputId": "78c33773-49dd-4a5b-c806-2b7b598cf161"
      },
      "execution_count": 11,
      "outputs": [
        {
          "output_type": "execute_result",
          "data": {
            "text/plain": [
              "1"
            ]
          },
          "metadata": {},
          "execution_count": 11
        }
      ]
    },
    {
      "cell_type": "code",
      "source": [
        "df.drop_duplicates(inplace=True)"
      ],
      "metadata": {
        "execution": {
          "iopub.status.busy": "2024-02-04T05:16:08.862233Z",
          "iopub.execute_input": "2024-02-04T05:16:08.863093Z",
          "iopub.status.idle": "2024-02-04T05:16:08.870879Z",
          "shell.execute_reply.started": "2024-02-04T05:16:08.863067Z",
          "shell.execute_reply": "2024-02-04T05:16:08.869990Z"
        },
        "trusted": true,
        "id": "R7JieVdbPbe9"
      },
      "execution_count": 12,
      "outputs": []
    },
    {
      "cell_type": "code",
      "source": [
        "df.duplicated().sum()"
      ],
      "metadata": {
        "execution": {
          "iopub.status.busy": "2024-02-04T05:16:08.872031Z",
          "iopub.execute_input": "2024-02-04T05:16:08.872689Z",
          "iopub.status.idle": "2024-02-04T05:16:08.883663Z",
          "shell.execute_reply.started": "2024-02-04T05:16:08.872664Z",
          "shell.execute_reply": "2024-02-04T05:16:08.882255Z"
        },
        "trusted": true,
        "colab": {
          "base_uri": "https://localhost:8080/"
        },
        "id": "vymxAMKxPbe-",
        "outputId": "cda8666f-fdbd-4dcc-8f0e-90a043b5de17"
      },
      "execution_count": 13,
      "outputs": [
        {
          "output_type": "execute_result",
          "data": {
            "text/plain": [
              "0"
            ]
          },
          "metadata": {},
          "execution_count": 13
        }
      ]
    },
    {
      "cell_type": "markdown",
      "source": [
        "# ***Plotting histogram for the entire dataset***"
      ],
      "metadata": {
        "id": "sf2Hdz97Pbe-"
      }
    },
    {
      "cell_type": "code",
      "source": [
        "fig = plt.figure(figsize = (15,15))\n",
        "ax = fig.gca()\n",
        "g = df.hist(ax=ax)"
      ],
      "metadata": {
        "execution": {
          "iopub.status.busy": "2024-02-04T05:16:08.885007Z",
          "iopub.execute_input": "2024-02-04T05:16:08.885905Z",
          "iopub.status.idle": "2024-02-04T05:16:11.984758Z",
          "shell.execute_reply.started": "2024-02-04T05:16:08.885829Z",
          "shell.execute_reply": "2024-02-04T05:16:11.983592Z"
        },
        "trusted": true,
        "colab": {
          "base_uri": "https://localhost:8080/",
          "height": 1000
        },
        "id": "1qudLQAyPbe-",
        "outputId": "4afef6d0-5eab-41fb-b9f8-9796c0058579"
      },
      "execution_count": 14,
      "outputs": [
        {
          "output_type": "display_data",
          "data": {
            "text/plain": [
              "<Figure size 1500x1500 with 16 Axes>"
            ],
            "image/png": "[encoded data removed]"
          },
          "metadata": {}
        }
      ]
    },
    {
      "cell_type": "markdown",
      "source": [
        "# ***Visualization to check if the dataset is balanced or not***"
      ],
      "metadata": {
        "id": "6XKJ4wuAPbe_"
      }
    },
    {
      "cell_type": "code",
      "source": [
        "g = sns.countplot(x='target', data=df)\n",
        "plt.xlabel('Target')\n",
        "plt.ylabel('Count')"
      ],
      "metadata": {
        "execution": {
          "iopub.status.busy": "2024-02-04T05:16:11.987469Z",
          "iopub.execute_input": "2024-02-04T05:16:11.987745Z",
          "iopub.status.idle": "2024-02-04T05:16:12.224295Z",
          "shell.execute_reply.started": "2024-02-04T05:16:11.987722Z",
          "shell.execute_reply": "2024-02-04T05:16:12.222932Z"
        },
        "trusted": true,
        "colab": {
          "base_uri": "https://localhost:8080/",
          "height": 470
        },
        "id": "B0-UmWNFPbe_",
        "outputId": "183a6361-0224-4092-9fc7-07243efc4940"
      },
      "execution_count": 15,
      "outputs": [
        {
          "output_type": "execute_result",
          "data": {
            "text/plain": [
              "Text(0, 0.5, 'Count')"
            ]
          },
          "metadata": {},
          "execution_count": 15
        },
        {
          "output_type": "display_data",
          "data": {
            "text/plain": [
              "<Figure size 640x480 with 1 Axes>"
            ],
            "image/png": "[encoded data removed]"
          },
          "metadata": {}
        }
      ]
    },
    {
      "cell_type": "markdown",
      "source": [
        "# ***Feature Selection***"
      ],
      "metadata": {
        "id": "fuXvCzC4Pbe_"
      }
    },
    {
      "cell_type": "markdown",
      "source": [
        "***Get correlation of all the features of the dataset***"
      ],
      "metadata": {
        "id": "WI7TZlAaPbfA"
      }
    },
    {
      "cell_type": "code",
      "source": [
        "# Selecting correlated features using Heatmap\n",
        "corr_matrix = df.corr()\n",
        "top_corr_features = corr_matrix.index\n",
        "\n",
        "# Plotting the heatmap\n",
        "plt.figure(figsize=(20,20))\n",
        "sns.heatmap(data=df[top_corr_features].corr(), annot=True, cmap='RdYlGn')"
      ],
      "metadata": {
        "execution": {
          "iopub.status.busy": "2024-02-04T05:16:12.225862Z",
          "iopub.execute_input": "2024-02-04T05:16:12.226251Z",
          "iopub.status.idle": "2024-02-04T05:16:13.240167Z",
          "shell.execute_reply.started": "2024-02-04T05:16:12.226216Z",
          "shell.execute_reply": "2024-02-04T05:16:13.238749Z"
        },
        "trusted": true,
        "colab": {
          "base_uri": "https://localhost:8080/",
          "height": 1000
        },
        "id": "uAZwDfxUPbfA",
        "outputId": "faa77f5a-245a-4895-dac0-45611389d2f9"
      },
      "execution_count": 16,
      "outputs": [
        {
          "output_type": "execute_result",
          "data": {
            "text/plain": [
              "<Axes: >"
            ]
          },
          "metadata": {},
          "execution_count": 16
        },
        {
          "output_type": "display_data",
          "data": {
            "text/plain": [
              "<Figure size 2000x2000 with 2 Axes>"
            ],
            "image/png": "[encoded data removed]"
          },
          "metadata": {}
        }
      ]
    },
    {
      "cell_type": "markdown",
      "source": [
        "# ***Understanding the columns***"
      ],
      "metadata": {
        "id": "lDdY4ROKPbfA"
      }
    },
    {
      "cell_type": "code",
      "source": [
        "info = [\"age\",\"1: male, 0: female\",\"chest pain type, 1: typical angina, 2: atypical angina, 3: non-anginal pain, 4: asymptomatic\",\"resting blood pressure\",\" serum cholestoral in mg/dl\",\"fasting blood sugar > 120 mg/dl\",\"resting electrocardiographic results (values 0,1,2)\",\" maximum heart rate achieved\",\"exercise induced angina\",\"oldpeak = ST depression induced by exercise relative to rest\",\"the slope of the peak exercise ST segment\",\"number of major vessels (0-3) colored by flourosopy\",\"thal: 3 = normal; 6 = fixed defect; 7 = reversable defect\"]\n",
        "\n",
        "\n",
        "\n",
        "for i in range(len(info)):\n",
        "    print(df.columns[i]+\":\\t\\t\\t\"+info[i])"
      ],
      "metadata": {
        "execution": {
          "iopub.status.busy": "2024-02-04T05:16:13.242068Z",
          "iopub.execute_input": "2024-02-04T05:16:13.242420Z",
          "iopub.status.idle": "2024-02-04T05:16:13.249807Z",
          "shell.execute_reply.started": "2024-02-04T05:16:13.242383Z",
          "shell.execute_reply": "2024-02-04T05:16:13.248224Z"
        },
        "trusted": true,
        "colab": {
          "base_uri": "https://localhost:8080/"
        },
        "id": "ZCDniTgMPbfB",
        "outputId": "7f6f9764-31ce-422f-a2ac-bee628ba3eb1"
      },
      "execution_count": 17,
      "outputs": [
        {
          "output_type": "stream",
          "name": "stdout",
          "text": [
            "age:\t\t\tage\n",
            "sex:\t\t\t1: male, 0: female\n",
            "cp:\t\t\tchest pain type, 1: typical angina, 2: atypical angina, 3: non-anginal pain, 4: asymptomatic\n",
            "trestbps:\t\t\tresting blood pressure\n",
            "chol:\t\t\t serum cholestoral in mg/dl\n",
            "fbs:\t\t\tfasting blood sugar > 120 mg/dl\n",
            "restecg:\t\t\tresting electrocardiographic results (values 0,1,2)\n",
            "thalach:\t\t\t maximum heart rate achieved\n",
            "exang:\t\t\texercise induced angina\n",
            "oldpeak:\t\t\toldpeak = ST depression induced by exercise relative to rest\n",
            "slope:\t\t\tthe slope of the peak exercise ST segment\n",
            "ca:\t\t\tnumber of major vessels (0-3) colored by flourosopy\n",
            "thal:\t\t\tthal: 3 = normal; 6 = fixed defect; 7 = reversable defect\n"
          ]
        }
      ]
    },
    {
      "cell_type": "markdown",
      "source": [
        "# ***Analyzing Target Variable***"
      ],
      "metadata": {
        "id": "WBzwdDpGPbfB"
      }
    },
    {
      "cell_type": "code",
      "source": [
        "df[\"target\"].describe()"
      ],
      "metadata": {
        "execution": {
          "iopub.status.busy": "2024-02-04T05:16:13.251392Z",
          "iopub.execute_input": "2024-02-04T05:16:13.251794Z",
          "iopub.status.idle": "2024-02-04T05:16:13.267630Z",
          "shell.execute_reply.started": "2024-02-04T05:16:13.251760Z",
          "shell.execute_reply": "2024-02-04T05:16:13.265418Z"
        },
        "trusted": true,
        "colab": {
          "base_uri": "https://localhost:8080/"
        },
        "id": "v9gmZUDBPbfC",
        "outputId": "e3ec64f4-73b2-4430-bbfc-cf670131bd36"
      },
      "execution_count": 18,
      "outputs": [
        {
          "output_type": "execute_result",
          "data": {
            "text/plain": [
              "count    302.000000\n",
              "mean       0.543046\n",
              "std        0.498970\n",
              "min        0.000000\n",
              "25%        0.000000\n",
              "50%        1.000000\n",
              "75%        1.000000\n",
              "max        1.000000\n",
              "Name: target, dtype: float64"
            ]
          },
          "metadata": {},
          "execution_count": 18
        }
      ]
    },
    {
      "cell_type": "code",
      "source": [
        "df[\"target\"].unique()"
      ],
      "metadata": {
        "execution": {
          "iopub.status.busy": "2024-02-04T05:16:13.268979Z",
          "iopub.execute_input": "2024-02-04T05:16:13.269400Z",
          "iopub.status.idle": "2024-02-04T05:16:13.278931Z",
          "shell.execute_reply.started": "2024-02-04T05:16:13.269368Z",
          "shell.execute_reply": "2024-02-04T05:16:13.277485Z"
        },
        "trusted": true,
        "colab": {
          "base_uri": "https://localhost:8080/"
        },
        "id": "eHiePa7MPbfC",
        "outputId": "76795643-b835-4866-c287-dc1d128e513e"
      },
      "execution_count": 19,
      "outputs": [
        {
          "output_type": "execute_result",
          "data": {
            "text/plain": [
              "array([1, 0])"
            ]
          },
          "metadata": {},
          "execution_count": 19
        }
      ]
    },
    {
      "cell_type": "markdown",
      "source": [
        "# ***Co-relation between columns***"
      ],
      "metadata": {
        "id": "vnxZJP7gPbfD"
      }
    },
    {
      "cell_type": "code",
      "source": [
        "print(df.corr()[\"target\"].abs().sort_values(ascending=False))"
      ],
      "metadata": {
        "execution": {
          "iopub.status.busy": "2024-02-04T05:16:13.280024Z",
          "iopub.execute_input": "2024-02-04T05:16:13.280343Z",
          "iopub.status.idle": "2024-02-04T05:16:13.294472Z",
          "shell.execute_reply.started": "2024-02-04T05:16:13.280315Z",
          "shell.execute_reply": "2024-02-04T05:16:13.292890Z"
        },
        "trusted": true,
        "colab": {
          "base_uri": "https://localhost:8080/"
        },
        "id": "Y5dTTv6jPbfD",
        "outputId": "894b9df9-3f95-4f84-e23e-33f6fc75c657"
      },
      "execution_count": 20,
      "outputs": [
        {
          "output_type": "stream",
          "name": "stdout",
          "text": [
            "target      1.000000\n",
            "exang       0.435601\n",
            "cp          0.432080\n",
            "oldpeak     0.429146\n",
            "thalach     0.419955\n",
            "ca          0.408992\n",
            "slope       0.343940\n",
            "thal        0.343101\n",
            "sex         0.283609\n",
            "age         0.221476\n",
            "trestbps    0.146269\n",
            "restecg     0.134874\n",
            "chol        0.081437\n",
            "fbs         0.026826\n",
            "Name: target, dtype: float64\n"
          ]
        }
      ]
    },
    {
      "cell_type": "markdown",
      "source": [
        "# ***Explanatory Data Analysis***"
      ],
      "metadata": {
        "id": "5qUkLtV6PbfE"
      }
    },
    {
      "cell_type": "markdown",
      "source": [
        "# ***Analyzing \"target\" Feature***"
      ],
      "metadata": {
        "id": "Ph3wPBvoPbfE"
      }
    },
    {
      "cell_type": "code",
      "source": [
        "sns.countplot(x = \"target\", data = df)\n",
        "\n",
        "target_temp = df.target.value_counts()\n",
        "\n",
        "print(target_temp)"
      ],
      "metadata": {
        "execution": {
          "iopub.status.busy": "2024-02-04T05:16:13.298957Z",
          "iopub.execute_input": "2024-02-04T05:16:13.300569Z",
          "iopub.status.idle": "2024-02-04T05:16:13.538517Z",
          "shell.execute_reply.started": "2024-02-04T05:16:13.300519Z",
          "shell.execute_reply": "2024-02-04T05:16:13.537401Z"
        },
        "trusted": true,
        "colab": {
          "base_uri": "https://localhost:8080/",
          "height": 505
        },
        "id": "mavBRuZ5PbfE",
        "outputId": "1ba2aefb-23a5-4b73-a2ab-873d62db86bd"
      },
      "execution_count": 21,
      "outputs": [
        {
          "output_type": "stream",
          "name": "stdout",
          "text": [
            "1    164\n",
            "0    138\n",
            "Name: target, dtype: int64\n"
          ]
        },
        {
          "output_type": "display_data",
          "data": {
            "text/plain": [
              "<Figure size 640x480 with 1 Axes>"
            ],
            "image/png": "[encoded data removed]"
          },
          "metadata": {}
        }
      ]
    },
    {
      "cell_type": "code",
      "source": [
        "print(\"Percentage of patience without heart problems: \"+str(round(target_temp[0]*100/302,2)))\n",
        "print(\"Percentage of patience with heart problems: \"+str(round(target_temp[1]*100/302,2)))"
      ],
      "metadata": {
        "execution": {
          "iopub.status.busy": "2024-02-04T05:16:13.540145Z",
          "iopub.execute_input": "2024-02-04T05:16:13.540517Z",
          "iopub.status.idle": "2024-02-04T05:16:13.547024Z",
          "shell.execute_reply.started": "2024-02-04T05:16:13.540484Z",
          "shell.execute_reply": "2024-02-04T05:16:13.545798Z"
        },
        "trusted": true,
        "colab": {
          "base_uri": "https://localhost:8080/"
        },
        "id": "bfxqhWdTPbfF",
        "outputId": "2d49f7aa-b22e-4df1-9cd0-82dea11fd829"
      },
      "execution_count": 22,
      "outputs": [
        {
          "output_type": "stream",
          "name": "stdout",
          "text": [
            "Percentage of patience without heart problems: 45.7\n",
            "Percentage of patience with heart problems: 54.3\n"
          ]
        }
      ]
    },
    {
      "cell_type": "markdown",
      "source": [
        "# ***Analyzing \"Sex\" Feature***"
      ],
      "metadata": {
        "id": "YaKPbAM6PbfF"
      }
    },
    {
      "cell_type": "code",
      "source": [
        "df[\"sex\"].unique()"
      ],
      "metadata": {
        "execution": {
          "iopub.status.busy": "2024-02-04T05:16:13.549024Z",
          "iopub.execute_input": "2024-02-04T05:16:13.549456Z",
          "iopub.status.idle": "2024-02-04T05:16:13.562896Z",
          "shell.execute_reply.started": "2024-02-04T05:16:13.549423Z",
          "shell.execute_reply": "2024-02-04T05:16:13.560891Z"
        },
        "trusted": true,
        "colab": {
          "base_uri": "https://localhost:8080/"
        },
        "id": "5GIQSjO6PbfG",
        "outputId": "1d25465f-6762-4134-e2b4-3d7d8aa8b701"
      },
      "execution_count": 23,
      "outputs": [
        {
          "output_type": "execute_result",
          "data": {
            "text/plain": [
              "array([1, 0])"
            ]
          },
          "metadata": {},
          "execution_count": 23
        }
      ]
    },
    {
      "cell_type": "code",
      "source": [
        "sns.barplot(x = \"sex\", y = \"target\", data = df)"
      ],
      "metadata": {
        "execution": {
          "iopub.status.busy": "2024-02-04T05:16:13.564242Z",
          "iopub.execute_input": "2024-02-04T05:16:13.564694Z",
          "iopub.status.idle": "2024-02-04T05:16:13.852952Z",
          "shell.execute_reply.started": "2024-02-04T05:16:13.564661Z",
          "shell.execute_reply": "2024-02-04T05:16:13.851838Z"
        },
        "trusted": true,
        "colab": {
          "base_uri": "https://localhost:8080/",
          "height": 470
        },
        "id": "Qw6tlddtPbfG",
        "outputId": "3d7c2afb-e558-4ca2-a206-491808ed6603"
      },
      "execution_count": 24,
      "outputs": [
        {
          "output_type": "execute_result",
          "data": {
            "text/plain": [
              "<Axes: xlabel='sex', ylabel='target'>"
            ]
          },
          "metadata": {},
          "execution_count": 24
        },
        {
          "output_type": "display_data",
          "data": {
            "text/plain": [
              "<Figure size 640x480 with 1 Axes>"
            ],
            "image/png": "[encoded data removed]"
          },
          "metadata": {}
        }
      ]
    },
    {
      "cell_type": "markdown",
      "source": [
        "# ***Analyzing \"cp\" Feature***"
      ],
      "metadata": {
        "id": "EwmW2zQgPbfH"
      }
    },
    {
      "cell_type": "code",
      "source": [
        "df[\"cp\"].unique()"
      ],
      "metadata": {
        "execution": {
          "iopub.status.busy": "2024-02-04T05:16:13.857142Z",
          "iopub.execute_input": "2024-02-04T05:16:13.857480Z",
          "iopub.status.idle": "2024-02-04T05:16:13.866116Z",
          "shell.execute_reply.started": "2024-02-04T05:16:13.857451Z",
          "shell.execute_reply": "2024-02-04T05:16:13.864470Z"
        },
        "trusted": true,
        "colab": {
          "base_uri": "https://localhost:8080/"
        },
        "id": "99BXBkqgPbfI",
        "outputId": "a24f3b9b-96cf-4900-fa63-f9c923d4d27e"
      },
      "execution_count": 25,
      "outputs": [
        {
          "output_type": "execute_result",
          "data": {
            "text/plain": [
              "array([3, 2, 1, 0])"
            ]
          },
          "metadata": {},
          "execution_count": 25
        }
      ]
    },
    {
      "cell_type": "code",
      "source": [
        "sns.barplot(x = \"cp\", y = \"target\", data = df)"
      ],
      "metadata": {
        "execution": {
          "iopub.status.busy": "2024-02-04T05:16:13.867569Z",
          "iopub.execute_input": "2024-02-04T05:16:13.867904Z",
          "iopub.status.idle": "2024-02-04T05:16:14.163981Z",
          "shell.execute_reply.started": "2024-02-04T05:16:13.867881Z",
          "shell.execute_reply": "2024-02-04T05:16:14.162481Z"
        },
        "trusted": true,
        "colab": {
          "base_uri": "https://localhost:8080/",
          "height": 470
        },
        "id": "gyRazKFoPbfI",
        "outputId": "8ac3bfa4-f644-4424-debb-e61cd96a113b"
      },
      "execution_count": 26,
      "outputs": [
        {
          "output_type": "execute_result",
          "data": {
            "text/plain": [
              "<Axes: xlabel='cp', ylabel='target'>"
            ]
          },
          "metadata": {},
          "execution_count": 26
        },
        {
          "output_type": "display_data",
          "data": {
            "text/plain": [
              "<Figure size 640x480 with 1 Axes>"
            ],
            "image/png": "[encoded data removed]"
          },
          "metadata": {}
        }
      ]
    },
    {
      "cell_type": "markdown",
      "source": [
        "# ***Analyzing \"fbs\" Feature***"
      ],
      "metadata": {
        "id": "U5wyzB4XPbfJ"
      }
    },
    {
      "cell_type": "code",
      "source": [
        "df[\"fbs\"].describe()"
      ],
      "metadata": {
        "execution": {
          "iopub.status.busy": "2024-02-04T05:16:14.165173Z",
          "iopub.execute_input": "2024-02-04T05:16:14.165453Z",
          "iopub.status.idle": "2024-02-04T05:16:14.174001Z",
          "shell.execute_reply.started": "2024-02-04T05:16:14.165432Z",
          "shell.execute_reply": "2024-02-04T05:16:14.173301Z"
        },
        "trusted": true,
        "colab": {
          "base_uri": "https://localhost:8080/"
        },
        "id": "14Wkq8qmPbfJ",
        "outputId": "d067b771-660d-470d-f2a4-c796681cbe66"
      },
      "execution_count": 27,
      "outputs": [
        {
          "output_type": "execute_result",
          "data": {
            "text/plain": [
              "count    302.000000\n",
              "mean       0.149007\n",
              "std        0.356686\n",
              "min        0.000000\n",
              "25%        0.000000\n",
              "50%        0.000000\n",
              "75%        0.000000\n",
              "max        1.000000\n",
              "Name: fbs, dtype: float64"
            ]
          },
          "metadata": {},
          "execution_count": 27
        }
      ]
    },
    {
      "cell_type": "code",
      "source": [
        "df[\"fbs\"].unique()"
      ],
      "metadata": {
        "execution": {
          "iopub.status.busy": "2024-02-04T05:16:14.174960Z",
          "iopub.execute_input": "2024-02-04T05:16:14.175333Z",
          "iopub.status.idle": "2024-02-04T05:16:14.187159Z",
          "shell.execute_reply.started": "2024-02-04T05:16:14.175313Z",
          "shell.execute_reply": "2024-02-04T05:16:14.186313Z"
        },
        "trusted": true,
        "colab": {
          "base_uri": "https://localhost:8080/"
        },
        "id": "nQZ7Gr-cPbfJ",
        "outputId": "fbd39c9f-179a-42e2-e97c-d8988313fa72"
      },
      "execution_count": 28,
      "outputs": [
        {
          "output_type": "execute_result",
          "data": {
            "text/plain": [
              "array([1, 0])"
            ]
          },
          "metadata": {},
          "execution_count": 28
        }
      ]
    },
    {
      "cell_type": "code",
      "source": [
        "sns.barplot(x = \"fbs\", y = \"target\", data = df)"
      ],
      "metadata": {
        "execution": {
          "iopub.status.busy": "2024-02-04T05:16:14.188200Z",
          "iopub.execute_input": "2024-02-04T05:16:14.189287Z",
          "iopub.status.idle": "2024-02-04T05:16:14.444068Z",
          "shell.execute_reply.started": "2024-02-04T05:16:14.189259Z",
          "shell.execute_reply": "2024-02-04T05:16:14.442989Z"
        },
        "trusted": true,
        "colab": {
          "base_uri": "https://localhost:8080/",
          "height": 476
        },
        "id": "dk1nY97NPbfK",
        "outputId": "10fff5c4-c01d-4b85-95fa-96806c350fa2"
      },
      "execution_count": 29,
      "outputs": [
        {
          "output_type": "execute_result",
          "data": {
            "text/plain": [
              "<Axes: xlabel='fbs', ylabel='target'>"
            ]
          },
          "metadata": {},
          "execution_count": 29
        },
        {
          "output_type": "display_data",
          "data": {
            "text/plain": [
              "<Figure size 640x480 with 1 Axes>"
            ],
            "image/png": "[encoded data removed]"
          },
          "metadata": {}
        }
      ]
    },
    {
      "cell_type": "markdown",
      "source": [
        "# ***Analyzing \"restecg\" Feature***"
      ],
      "metadata": {
        "id": "__Jyb0prPbfL"
      }
    },
    {
      "cell_type": "code",
      "source": [
        "df[\"restecg\"].unique()"
      ],
      "metadata": {
        "execution": {
          "iopub.status.busy": "2024-02-04T05:16:14.445779Z",
          "iopub.execute_input": "2024-02-04T05:16:14.446328Z",
          "iopub.status.idle": "2024-02-04T05:16:14.456796Z",
          "shell.execute_reply.started": "2024-02-04T05:16:14.446293Z",
          "shell.execute_reply": "2024-02-04T05:16:14.455370Z"
        },
        "trusted": true,
        "colab": {
          "base_uri": "https://localhost:8080/"
        },
        "id": "NlCV9p56PbfL",
        "outputId": "1ee130f5-db0e-4dc4-b645-1e5730d21458"
      },
      "execution_count": 30,
      "outputs": [
        {
          "output_type": "execute_result",
          "data": {
            "text/plain": [
              "array([0, 1, 2])"
            ]
          },
          "metadata": {},
          "execution_count": 30
        }
      ]
    },
    {
      "cell_type": "code",
      "source": [
        "sns.barplot(x = \"restecg\",y = \"target\", data = df)"
      ],
      "metadata": {
        "execution": {
          "iopub.status.busy": "2024-02-04T05:16:14.458303Z",
          "iopub.execute_input": "2024-02-04T05:16:14.458544Z",
          "iopub.status.idle": "2024-02-04T05:16:14.777532Z",
          "shell.execute_reply.started": "2024-02-04T05:16:14.458523Z",
          "shell.execute_reply": "2024-02-04T05:16:14.775606Z"
        },
        "trusted": true,
        "colab": {
          "base_uri": "https://localhost:8080/",
          "height": 470
        },
        "id": "fH9urpi_PbfL",
        "outputId": "a172ac45-ab7b-4f55-d7e9-b5f5f8e63bf4"
      },
      "execution_count": 31,
      "outputs": [
        {
          "output_type": "execute_result",
          "data": {
            "text/plain": [
              "<Axes: xlabel='restecg', ylabel='target'>"
            ]
          },
          "metadata": {},
          "execution_count": 31
        },
        {
          "output_type": "display_data",
          "data": {
            "text/plain": [
              "<Figure size 640x480 with 1 Axes>"
            ],
            "image/png": "[encoded data removed]"
          },
          "metadata": {}
        }
      ]
    },
    {
      "cell_type": "markdown",
      "source": [
        "# ***Analyzing \"exang\" Feature***"
      ],
      "metadata": {
        "id": "CL5sBljIPbfM"
      }
    },
    {
      "cell_type": "code",
      "source": [
        "df[\"exang\"].unique()"
      ],
      "metadata": {
        "execution": {
          "iopub.status.busy": "2024-02-04T05:16:14.778980Z",
          "iopub.execute_input": "2024-02-04T05:16:14.783633Z",
          "iopub.status.idle": "2024-02-04T05:16:14.792999Z",
          "shell.execute_reply.started": "2024-02-04T05:16:14.783535Z",
          "shell.execute_reply": "2024-02-04T05:16:14.791244Z"
        },
        "trusted": true,
        "colab": {
          "base_uri": "https://localhost:8080/"
        },
        "id": "uPMTrWYqPbfN",
        "outputId": "4aaf470d-daa9-4e41-aa22-062aedb95ff4"
      },
      "execution_count": 32,
      "outputs": [
        {
          "output_type": "execute_result",
          "data": {
            "text/plain": [
              "array([0, 1])"
            ]
          },
          "metadata": {},
          "execution_count": 32
        }
      ]
    },
    {
      "cell_type": "code",
      "source": [
        "sns.barplot(x = \"exang\",y = \"target\", data = df)"
      ],
      "metadata": {
        "execution": {
          "iopub.status.busy": "2024-02-04T05:16:14.794509Z",
          "iopub.execute_input": "2024-02-04T05:16:14.794917Z",
          "iopub.status.idle": "2024-02-04T05:16:15.071692Z",
          "shell.execute_reply.started": "2024-02-04T05:16:14.794854Z",
          "shell.execute_reply": "2024-02-04T05:16:15.069973Z"
        },
        "trusted": true,
        "colab": {
          "base_uri": "https://localhost:8080/",
          "height": 470
        },
        "id": "nz5yXMaJPbfN",
        "outputId": "62e47ebd-dd0d-4a8c-c884-fbd9180b66e4"
      },
      "execution_count": 33,
      "outputs": [
        {
          "output_type": "execute_result",
          "data": {
            "text/plain": [
              "<Axes: xlabel='exang', ylabel='target'>"
            ]
          },
          "metadata": {},
          "execution_count": 33
        },
        {
          "output_type": "display_data",
          "data": {
            "text/plain": [
              "<Figure size 640x480 with 1 Axes>"
            ],
            "image/png": "[encoded data removed]"
          },
          "metadata": {}
        }
      ]
    },
    {
      "cell_type": "markdown",
      "source": [
        "# ***Analyzing \"slope\" Feature***"
      ],
      "metadata": {
        "id": "5z6N5JpKPbfO"
      }
    },
    {
      "cell_type": "code",
      "source": [
        "df[\"slope\"].unique()"
      ],
      "metadata": {
        "execution": {
          "iopub.status.busy": "2024-02-04T05:16:15.073388Z",
          "iopub.execute_input": "2024-02-04T05:16:15.073784Z",
          "iopub.status.idle": "2024-02-04T05:16:15.081463Z",
          "shell.execute_reply.started": "2024-02-04T05:16:15.073755Z",
          "shell.execute_reply": "2024-02-04T05:16:15.080735Z"
        },
        "trusted": true,
        "colab": {
          "base_uri": "https://localhost:8080/"
        },
        "id": "jUminsg3PbfP",
        "outputId": "5a1a017c-3682-4a77-c3ba-525c4294238c"
      },
      "execution_count": 34,
      "outputs": [
        {
          "output_type": "execute_result",
          "data": {
            "text/plain": [
              "array([0, 2, 1])"
            ]
          },
          "metadata": {},
          "execution_count": 34
        }
      ]
    },
    {
      "cell_type": "code",
      "source": [
        "sns.barplot(x = \"slope\",y = \"target\", data = df)"
      ],
      "metadata": {
        "execution": {
          "iopub.status.busy": "2024-02-04T05:16:15.082326Z",
          "iopub.execute_input": "2024-02-04T05:16:15.082655Z",
          "iopub.status.idle": "2024-02-04T05:16:15.781699Z",
          "shell.execute_reply.started": "2024-02-04T05:16:15.082631Z",
          "shell.execute_reply": "2024-02-04T05:16:15.780652Z"
        },
        "trusted": true,
        "colab": {
          "base_uri": "https://localhost:8080/",
          "height": 470
        },
        "id": "HGUjW8UbPbfQ",
        "outputId": "d65074f6-a2da-4501-f5d7-efce07e4f744"
      },
      "execution_count": 35,
      "outputs": [
        {
          "output_type": "execute_result",
          "data": {
            "text/plain": [
              "<Axes: xlabel='slope', ylabel='target'>"
            ]
          },
          "metadata": {},
          "execution_count": 35
        },
        {
          "output_type": "display_data",
          "data": {
            "text/plain": [
              "<Figure size 640x480 with 1 Axes>"
            ],
            "image/png": "[encoded data removed]"
          },
          "metadata": {}
        }
      ]
    },
    {
      "cell_type": "markdown",
      "source": [
        "# ***Analyzing \"ca\" Feature***"
      ],
      "metadata": {
        "id": "kWCCx_RaPbfQ"
      }
    },
    {
      "cell_type": "code",
      "source": [
        "df[\"ca\"].unique()"
      ],
      "metadata": {
        "execution": {
          "iopub.status.busy": "2024-02-04T05:16:15.783470Z",
          "iopub.execute_input": "2024-02-04T05:16:15.783855Z",
          "iopub.status.idle": "2024-02-04T05:16:15.790394Z",
          "shell.execute_reply.started": "2024-02-04T05:16:15.783814Z",
          "shell.execute_reply": "2024-02-04T05:16:15.789661Z"
        },
        "trusted": true,
        "colab": {
          "base_uri": "https://localhost:8080/"
        },
        "id": "Fc6sjgnFPbfR",
        "outputId": "363f4c67-91ee-4fea-f6c1-d21905575634"
      },
      "execution_count": 36,
      "outputs": [
        {
          "output_type": "execute_result",
          "data": {
            "text/plain": [
              "array([0, 2, 1, 3, 4])"
            ]
          },
          "metadata": {},
          "execution_count": 36
        }
      ]
    },
    {
      "cell_type": "code",
      "source": [
        "sns.countplot(x = \"ca\", data = df)"
      ],
      "metadata": {
        "execution": {
          "iopub.status.busy": "2024-02-04T05:16:15.792117Z",
          "iopub.execute_input": "2024-02-04T05:16:15.792402Z",
          "iopub.status.idle": "2024-02-04T05:16:16.052413Z",
          "shell.execute_reply.started": "2024-02-04T05:16:15.792378Z",
          "shell.execute_reply": "2024-02-04T05:16:16.051520Z"
        },
        "trusted": true,
        "colab": {
          "base_uri": "https://localhost:8080/",
          "height": 470
        },
        "id": "5g4CU3L6PbfS",
        "outputId": "5e394f39-0f9a-4cf4-ea7e-dc752c260126"
      },
      "execution_count": 37,
      "outputs": [
        {
          "output_type": "execute_result",
          "data": {
            "text/plain": [
              "<Axes: xlabel='ca', ylabel='count'>"
            ]
          },
          "metadata": {},
          "execution_count": 37
        },
        {
          "output_type": "display_data",
          "data": {
            "text/plain": [
              "<Figure size 640x480 with 1 Axes>"
            ],
            "image/png": "[encoded data removed]"
          },
          "metadata": {}
        }
      ]
    },
    {
      "cell_type": "code",
      "source": [
        "sns.barplot(x = \"ca\",y = \"target\", data = df)"
      ],
      "metadata": {
        "execution": {
          "iopub.status.busy": "2024-02-04T05:16:16.053676Z",
          "iopub.execute_input": "2024-02-04T05:16:16.054238Z",
          "iopub.status.idle": "2024-02-04T05:16:16.397643Z",
          "shell.execute_reply.started": "2024-02-04T05:16:16.054208Z",
          "shell.execute_reply": "2024-02-04T05:16:16.396611Z"
        },
        "trusted": true,
        "colab": {
          "base_uri": "https://localhost:8080/",
          "height": 470
        },
        "id": "L5kLOW31PbfT",
        "outputId": "7e92ecad-2834-4c4c-8448-db5235ef8dd2"
      },
      "execution_count": 38,
      "outputs": [
        {
          "output_type": "execute_result",
          "data": {
            "text/plain": [
              "<Axes: xlabel='ca', ylabel='target'>"
            ]
          },
          "metadata": {},
          "execution_count": 38
        },
        {
          "output_type": "display_data",
          "data": {
            "text/plain": [
              "<Figure size 640x480 with 1 Axes>"
            ],
            "image/png": "[encoded data removed]"
          },
          "metadata": {}
        }
      ]
    },
    {
      "cell_type": "markdown",
      "source": [
        "# ***Analyzing \"thal\" Feature***"
      ],
      "metadata": {
        "id": "VY1xU2t_PbfT"
      }
    },
    {
      "cell_type": "code",
      "source": [
        "df[\"thal\"].unique()"
      ],
      "metadata": {
        "execution": {
          "iopub.status.busy": "2024-02-04T05:16:16.399071Z",
          "iopub.execute_input": "2024-02-04T05:16:16.399418Z",
          "iopub.status.idle": "2024-02-04T05:16:16.408318Z",
          "shell.execute_reply.started": "2024-02-04T05:16:16.399387Z",
          "shell.execute_reply": "2024-02-04T05:16:16.407061Z"
        },
        "trusted": true,
        "colab": {
          "base_uri": "https://localhost:8080/"
        },
        "id": "F4a7g1ZnPbfU",
        "outputId": "69df3ab9-a38c-45d0-b962-ca538608d69d"
      },
      "execution_count": 39,
      "outputs": [
        {
          "output_type": "execute_result",
          "data": {
            "text/plain": [
              "array([1, 2, 3, 0])"
            ]
          },
          "metadata": {},
          "execution_count": 39
        }
      ]
    },
    {
      "cell_type": "code",
      "source": [
        "sns.barplot(x = \"thal\",y = \"target\", data = df)"
      ],
      "metadata": {
        "execution": {
          "iopub.status.busy": "2024-02-04T05:16:16.409810Z",
          "iopub.execute_input": "2024-02-04T05:16:16.411145Z",
          "iopub.status.idle": "2024-02-04T05:16:16.743427Z",
          "shell.execute_reply.started": "2024-02-04T05:16:16.411075Z",
          "shell.execute_reply": "2024-02-04T05:16:16.742059Z"
        },
        "trusted": true,
        "colab": {
          "base_uri": "https://localhost:8080/",
          "height": 470
        },
        "id": "MmHzexO3PbfV",
        "outputId": "4e032a5f-b587-4663-d32a-6462c707f690"
      },
      "execution_count": 40,
      "outputs": [
        {
          "output_type": "execute_result",
          "data": {
            "text/plain": [
              "<Axes: xlabel='thal', ylabel='target'>"
            ]
          },
          "metadata": {},
          "execution_count": 40
        },
        {
          "output_type": "display_data",
          "data": {
            "text/plain": [
              "<Figure size 640x480 with 1 Axes>"
            ],
            "image/png": "[encoded data removed]"
          },
          "metadata": {}
        }
      ]
    },
    {
      "cell_type": "code",
      "source": [
        "sns.distplot(df[\"thal\"])"
      ],
      "metadata": {
        "execution": {
          "iopub.status.busy": "2024-02-04T05:16:16.745538Z",
          "iopub.execute_input": "2024-02-04T05:16:16.745996Z",
          "iopub.status.idle": "2024-02-04T05:16:17.116171Z",
          "shell.execute_reply.started": "2024-02-04T05:16:16.745962Z",
          "shell.execute_reply": "2024-02-04T05:16:17.114466Z"
        },
        "trusted": true,
        "colab": {
          "base_uri": "https://localhost:8080/",
          "height": 470
        },
        "id": "Ot9EzPZiPbfW",
        "outputId": "de42aaab-6200-4c63-fe7e-ae884a9c5bc8"
      },
      "execution_count": 41,
      "outputs": [
        {
          "output_type": "execute_result",
          "data": {
            "text/plain": [
              "<Axes: xlabel='thal', ylabel='Density'>"
            ]
          },
          "metadata": {},
          "execution_count": 41
        },
        {
          "output_type": "display_data",
          "data": {
            "text/plain": [
              "<Figure size 640x480 with 1 Axes>"
            ],
            "image/png": "[encoded data removed]"
          },
          "metadata": {}
        }
      ]
    },
    {
      "cell_type": "markdown",
      "source": [
        "# ***Train-Test Split***"
      ],
      "metadata": {
        "id": "NX5TEcNKPbfX"
      }
    },
    {
      "cell_type": "code",
      "source": [
        "from sklearn.model_selection import train_test_split\n",
        "\n",
        "predictors = df.drop(\"target\",axis=1)\n",
        "target = df[\"target\"]\n",
        "\n",
        "X_train,X_test,Y_train,Y_test = train_test_split(predictors,target,test_size=0.20,random_state=0)"
      ],
      "metadata": {
        "execution": {
          "iopub.status.busy": "2024-02-04T05:16:17.118204Z",
          "iopub.execute_input": "2024-02-04T05:16:17.118825Z",
          "iopub.status.idle": "2024-02-04T05:16:17.129254Z",
          "shell.execute_reply.started": "2024-02-04T05:16:17.118781Z",
          "shell.execute_reply": "2024-02-04T05:16:17.127657Z"
        },
        "trusted": true,
        "id": "tZfwQYm_PbfX"
      },
      "execution_count": 42,
      "outputs": []
    },
    {
      "cell_type": "code",
      "source": [
        "X_train.shape"
      ],
      "metadata": {
        "execution": {
          "iopub.status.busy": "2024-02-04T05:16:17.130949Z",
          "iopub.execute_input": "2024-02-04T05:16:17.131283Z",
          "iopub.status.idle": "2024-02-04T05:16:17.141476Z",
          "shell.execute_reply.started": "2024-02-04T05:16:17.131256Z",
          "shell.execute_reply": "2024-02-04T05:16:17.140653Z"
        },
        "trusted": true,
        "colab": {
          "base_uri": "https://localhost:8080/"
        },
        "id": "KMi2Ac2XPbfY",
        "outputId": "2d6a6e41-0b0b-42e6-8a4c-9be95474ec46"
      },
      "execution_count": 43,
      "outputs": [
        {
          "output_type": "execute_result",
          "data": {
            "text/plain": [
              "(241, 13)"
            ]
          },
          "metadata": {},
          "execution_count": 43
        }
      ]
    },
    {
      "cell_type": "code",
      "source": [
        "X_test.shape"
      ],
      "metadata": {
        "execution": {
          "iopub.status.busy": "2024-02-04T05:16:17.142342Z",
          "iopub.execute_input": "2024-02-04T05:16:17.143444Z",
          "iopub.status.idle": "2024-02-04T05:16:17.160427Z",
          "shell.execute_reply.started": "2024-02-04T05:16:17.143370Z",
          "shell.execute_reply": "2024-02-04T05:16:17.158566Z"
        },
        "trusted": true,
        "colab": {
          "base_uri": "https://localhost:8080/"
        },
        "id": "xRoNCzTRPbfY",
        "outputId": "43995bdb-7661-4aa4-8210-87b7567742cb"
      },
      "execution_count": 44,
      "outputs": [
        {
          "output_type": "execute_result",
          "data": {
            "text/plain": [
              "(61, 13)"
            ]
          },
          "metadata": {},
          "execution_count": 44
        }
      ]
    },
    {
      "cell_type": "code",
      "source": [
        "Y_train.shape"
      ],
      "metadata": {
        "execution": {
          "iopub.status.busy": "2024-02-04T05:16:17.162007Z",
          "iopub.execute_input": "2024-02-04T05:16:17.162292Z",
          "iopub.status.idle": "2024-02-04T05:16:17.172729Z",
          "shell.execute_reply.started": "2024-02-04T05:16:17.162265Z",
          "shell.execute_reply": "2024-02-04T05:16:17.171722Z"
        },
        "trusted": true,
        "colab": {
          "base_uri": "https://localhost:8080/"
        },
        "id": "MgCB7fjnPbfZ",
        "outputId": "5a3eccd4-be6a-4883-f9c3-034338f4d7c3"
      },
      "execution_count": 45,
      "outputs": [
        {
          "output_type": "execute_result",
          "data": {
            "text/plain": [
              "(241,)"
            ]
          },
          "metadata": {},
          "execution_count": 45
        }
      ]
    },
    {
      "cell_type": "code",
      "source": [
        "Y_test.shape"
      ],
      "metadata": {
        "execution": {
          "iopub.status.busy": "2024-02-04T05:16:17.173744Z",
          "iopub.execute_input": "2024-02-04T05:16:17.174209Z",
          "iopub.status.idle": "2024-02-04T05:16:17.185168Z",
          "shell.execute_reply.started": "2024-02-04T05:16:17.174179Z",
          "shell.execute_reply": "2024-02-04T05:16:17.183823Z"
        },
        "trusted": true,
        "colab": {
          "base_uri": "https://localhost:8080/"
        },
        "id": "xvivBHRBPbfZ",
        "outputId": "3c5410de-d57f-4c91-c56b-626054137e36"
      },
      "execution_count": 46,
      "outputs": [
        {
          "output_type": "execute_result",
          "data": {
            "text/plain": [
              "(61,)"
            ]
          },
          "metadata": {},
          "execution_count": 46
        }
      ]
    },
    {
      "cell_type": "markdown",
      "source": [
        "# ***Model Fitting***"
      ],
      "metadata": {
        "id": "hw2IrY1nPbfa"
      }
    },
    {
      "cell_type": "code",
      "source": [
        "from sklearn.metrics import accuracy_score"
      ],
      "metadata": {
        "execution": {
          "iopub.status.busy": "2024-02-04T05:16:17.186537Z",
          "iopub.execute_input": "2024-02-04T05:16:17.186894Z",
          "iopub.status.idle": "2024-02-04T05:16:17.196911Z",
          "shell.execute_reply.started": "2024-02-04T05:16:17.186866Z",
          "shell.execute_reply": "2024-02-04T05:16:17.195502Z"
        },
        "trusted": true,
        "id": "LAUGgCNbPbfb"
      },
      "execution_count": 47,
      "outputs": []
    },
    {
      "cell_type": "markdown",
      "source": [
        "# ***Logistic Regression***"
      ],
      "metadata": {
        "id": "GbReUqJsPbfb"
      }
    },
    {
      "cell_type": "code",
      "source": [
        "from sklearn.linear_model import LogisticRegression\n",
        "\n",
        "lr = LogisticRegression()\n",
        "\n",
        "lr.fit(X_train,Y_train)\n",
        "\n",
        "Y_pred_lr = lr.predict(X_test)"
      ],
      "metadata": {
        "execution": {
          "iopub.status.busy": "2024-02-04T05:16:17.198474Z",
          "iopub.execute_input": "2024-02-04T05:16:17.198851Z",
          "iopub.status.idle": "2024-02-04T05:16:17.231863Z",
          "shell.execute_reply.started": "2024-02-04T05:16:17.198821Z",
          "shell.execute_reply": "2024-02-04T05:16:17.230264Z"
        },
        "trusted": true,
        "id": "3jfwBKeIPbfc"
      },
      "execution_count": 48,
      "outputs": []
    },
    {
      "cell_type": "code",
      "source": [
        "Y_pred_lr.shape"
      ],
      "metadata": {
        "execution": {
          "iopub.status.busy": "2024-02-04T05:16:17.233738Z",
          "iopub.execute_input": "2024-02-04T05:16:17.234154Z",
          "iopub.status.idle": "2024-02-04T05:16:17.241953Z",
          "shell.execute_reply.started": "2024-02-04T05:16:17.234115Z",
          "shell.execute_reply": "2024-02-04T05:16:17.240553Z"
        },
        "trusted": true,
        "colab": {
          "base_uri": "https://localhost:8080/"
        },
        "id": "2lY3YuHuPbfe",
        "outputId": "b280a42e-c613-4b38-9714-bc7dc7444a72"
      },
      "execution_count": 49,
      "outputs": [
        {
          "output_type": "execute_result",
          "data": {
            "text/plain": [
              "(61,)"
            ]
          },
          "metadata": {},
          "execution_count": 49
        }
      ]
    },
    {
      "cell_type": "code",
      "source": [
        "score_lr = round(accuracy_score(Y_pred_lr,Y_test)*100,2)\n",
        "\n",
        "print(\"The accuracy score achieved using Logistic Regression is: \"+str(score_lr)+\" %\")"
      ],
      "metadata": {
        "execution": {
          "iopub.status.busy": "2024-02-04T05:16:17.244051Z",
          "iopub.execute_input": "2024-02-04T05:16:17.244450Z",
          "iopub.status.idle": "2024-02-04T05:16:17.254326Z",
          "shell.execute_reply.started": "2024-02-04T05:16:17.244414Z",
          "shell.execute_reply": "2024-02-04T05:16:17.252700Z"
        },
        "trusted": true,
        "colab": {
          "base_uri": "https://localhost:8080/"
        },
        "id": "GLQtP5mSPbfe",
        "outputId": "78ec4629-0751-478e-e299-2d796174c901"
      },
      "execution_count": 50,
      "outputs": [
        {
          "output_type": "stream",
          "name": "stdout",
          "text": [
            "The accuracy score achieved using Logistic Regression is: 85.25 %\n"
          ]
        }
      ]
    },
    {
      "cell_type": "markdown",
      "source": [
        "# ***Navie Bayes***"
      ],
      "metadata": {
        "id": "ahFBZBIVPbff"
      }
    },
    {
      "cell_type": "code",
      "source": [
        "from sklearn.naive_bayes import GaussianNB\n",
        "\n",
        "nb = GaussianNB()\n",
        "\n",
        "nb.fit(X_train,Y_train)\n",
        "\n",
        "Y_pred_nb = nb.predict(X_test)"
      ],
      "metadata": {
        "execution": {
          "iopub.status.busy": "2024-02-04T05:16:17.255999Z",
          "iopub.execute_input": "2024-02-04T05:16:17.256610Z",
          "iopub.status.idle": "2024-02-04T05:16:17.269079Z",
          "shell.execute_reply.started": "2024-02-04T05:16:17.256545Z",
          "shell.execute_reply": "2024-02-04T05:16:17.268087Z"
        },
        "trusted": true,
        "id": "a5QoLVFoPbff"
      },
      "execution_count": 51,
      "outputs": []
    },
    {
      "cell_type": "code",
      "source": [
        "Y_pred_nb.shape"
      ],
      "metadata": {
        "execution": {
          "iopub.status.busy": "2024-02-04T05:16:17.270212Z",
          "iopub.execute_input": "2024-02-04T05:16:17.270478Z",
          "iopub.status.idle": "2024-02-04T05:16:17.282943Z",
          "shell.execute_reply.started": "2024-02-04T05:16:17.270457Z",
          "shell.execute_reply": "2024-02-04T05:16:17.281922Z"
        },
        "trusted": true,
        "colab": {
          "base_uri": "https://localhost:8080/"
        },
        "id": "LU86RkylPbfg",
        "outputId": "bb274a54-631b-47ac-d6b5-4540a1ef7fce"
      },
      "execution_count": 52,
      "outputs": [
        {
          "output_type": "execute_result",
          "data": {
            "text/plain": [
              "(61,)"
            ]
          },
          "metadata": {},
          "execution_count": 52
        }
      ]
    },
    {
      "cell_type": "code",
      "source": [
        "score_nb = round(accuracy_score(Y_pred_nb,Y_test)*100,2)\n",
        "\n",
        "print(\"The accuracy score achieved using Naive Bayes is: \"+str(score_nb)+\" %\")"
      ],
      "metadata": {
        "execution": {
          "iopub.status.busy": "2024-02-04T05:16:17.292250Z",
          "iopub.execute_input": "2024-02-04T05:16:17.293346Z",
          "iopub.status.idle": "2024-02-04T05:16:17.301774Z",
          "shell.execute_reply.started": "2024-02-04T05:16:17.293298Z",
          "shell.execute_reply": "2024-02-04T05:16:17.300051Z"
        },
        "trusted": true,
        "colab": {
          "base_uri": "https://localhost:8080/"
        },
        "id": "2smXS3YTPbfg",
        "outputId": "714f3206-a738-41e0-cdda-b77d4378e0f6"
      },
      "execution_count": 53,
      "outputs": [
        {
          "output_type": "stream",
          "name": "stdout",
          "text": [
            "The accuracy score achieved using Naive Bayes is: 90.16 %\n"
          ]
        }
      ]
    },
    {
      "cell_type": "markdown",
      "source": [
        "# ***SVM***"
      ],
      "metadata": {
        "id": "U5YqOt3nPbfh"
      }
    },
    {
      "cell_type": "code",
      "source": [
        "from sklearn import svm\n",
        "\n",
        "sv = svm.SVC(kernel='linear')\n",
        "\n",
        "sv.fit(X_train, Y_train)\n",
        "\n",
        "Y_pred_svm = sv.predict(X_test)"
      ],
      "metadata": {
        "execution": {
          "iopub.status.busy": "2024-02-04T05:16:17.304419Z",
          "iopub.execute_input": "2024-02-04T05:16:17.304849Z",
          "iopub.status.idle": "2024-02-04T05:16:17.426614Z",
          "shell.execute_reply.started": "2024-02-04T05:16:17.304815Z",
          "shell.execute_reply": "2024-02-04T05:16:17.425516Z"
        },
        "trusted": true,
        "id": "28SADRgXPbfh"
      },
      "execution_count": 54,
      "outputs": []
    },
    {
      "cell_type": "code",
      "source": [
        "Y_pred_svm.shape"
      ],
      "metadata": {
        "execution": {
          "iopub.status.busy": "2024-02-04T05:16:17.427904Z",
          "iopub.execute_input": "2024-02-04T05:16:17.428174Z",
          "iopub.status.idle": "2024-02-04T05:16:17.435359Z",
          "shell.execute_reply.started": "2024-02-04T05:16:17.428151Z",
          "shell.execute_reply": "2024-02-04T05:16:17.433838Z"
        },
        "trusted": true,
        "colab": {
          "base_uri": "https://localhost:8080/"
        },
        "id": "cTPoo1aBPbfi",
        "outputId": "bc0826cd-110b-445e-e7a3-3bd8d069fde4"
      },
      "execution_count": 55,
      "outputs": [
        {
          "output_type": "execute_result",
          "data": {
            "text/plain": [
              "(61,)"
            ]
          },
          "metadata": {},
          "execution_count": 55
        }
      ]
    },
    {
      "cell_type": "code",
      "source": [
        "score_svm = round(accuracy_score(Y_pred_svm,Y_test)*100,2)\n",
        "\n",
        "print(\"The accuracy score achieved using Linear SVM is: \"+str(score_svm)+\" %\")"
      ],
      "metadata": {
        "execution": {
          "iopub.status.busy": "2024-02-04T05:16:17.436709Z",
          "iopub.execute_input": "2024-02-04T05:16:17.437030Z",
          "iopub.status.idle": "2024-02-04T05:16:17.448132Z",
          "shell.execute_reply.started": "2024-02-04T05:16:17.437005Z",
          "shell.execute_reply": "2024-02-04T05:16:17.446963Z"
        },
        "trusted": true,
        "colab": {
          "base_uri": "https://localhost:8080/"
        },
        "id": "9GgRP6CNPbfi",
        "outputId": "5177f6e3-0c9f-445d-f96c-577a3fb35a83"
      },
      "execution_count": 56,
      "outputs": [
        {
          "output_type": "stream",
          "name": "stdout",
          "text": [
            "The accuracy score achieved using Linear SVM is: 86.89 %\n"
          ]
        }
      ]
    },
    {
      "cell_type": "markdown",
      "source": [
        "# ***KNN***"
      ],
      "metadata": {
        "id": "qc1yjTvmPbfj"
      }
    },
    {
      "cell_type": "code",
      "source": [
        "from sklearn.neighbors import KNeighborsClassifier\n",
        "\n",
        "knn = KNeighborsClassifier(n_neighbors=7)\n",
        "knn.fit(X_train,Y_train)\n",
        "Y_pred_knn=knn.predict(X_test)"
      ],
      "metadata": {
        "execution": {
          "iopub.status.busy": "2024-02-04T05:16:17.449153Z",
          "iopub.execute_input": "2024-02-04T05:16:17.449851Z",
          "iopub.status.idle": "2024-02-04T05:16:17.470631Z",
          "shell.execute_reply.started": "2024-02-04T05:16:17.449827Z",
          "shell.execute_reply": "2024-02-04T05:16:17.469453Z"
        },
        "trusted": true,
        "id": "NOAdMUCVPbfj"
      },
      "execution_count": 57,
      "outputs": []
    },
    {
      "cell_type": "code",
      "source": [
        "Y_pred_knn.shape"
      ],
      "metadata": {
        "execution": {
          "iopub.status.busy": "2024-02-04T05:16:17.471708Z",
          "iopub.execute_input": "2024-02-04T05:16:17.471950Z",
          "iopub.status.idle": "2024-02-04T05:16:17.481715Z",
          "shell.execute_reply.started": "2024-02-04T05:16:17.471929Z",
          "shell.execute_reply": "2024-02-04T05:16:17.480211Z"
        },
        "trusted": true,
        "colab": {
          "base_uri": "https://localhost:8080/"
        },
        "id": "eo-uEa4cPbfk",
        "outputId": "8934058c-cfa5-438d-fdbb-72dcc252f284"
      },
      "execution_count": 58,
      "outputs": [
        {
          "output_type": "execute_result",
          "data": {
            "text/plain": [
              "(61,)"
            ]
          },
          "metadata": {},
          "execution_count": 58
        }
      ]
    },
    {
      "cell_type": "code",
      "source": [
        "score_knn = round(accuracy_score(Y_pred_knn,Y_test)*100,2)\n",
        "\n",
        "print(\"The accuracy score achieved using KNN is: \"+str(score_knn)+\" %\")"
      ],
      "metadata": {
        "execution": {
          "iopub.status.busy": "2024-02-04T05:16:17.483140Z",
          "iopub.execute_input": "2024-02-04T05:16:17.483647Z",
          "iopub.status.idle": "2024-02-04T05:16:17.493652Z",
          "shell.execute_reply.started": "2024-02-04T05:16:17.483618Z",
          "shell.execute_reply": "2024-02-04T05:16:17.492366Z"
        },
        "trusted": true,
        "colab": {
          "base_uri": "https://localhost:8080/"
        },
        "id": "R3qHuEKYPbfk",
        "outputId": "016437e0-02d7-4fa4-d820-c678997c1a94"
      },
      "execution_count": 59,
      "outputs": [
        {
          "output_type": "stream",
          "name": "stdout",
          "text": [
            "The accuracy score achieved using KNN is: 62.3 %\n"
          ]
        }
      ]
    },
    {
      "cell_type": "markdown",
      "source": [
        "# ***Decision Tree***"
      ],
      "metadata": {
        "id": "-t9-hjlvPbfl"
      }
    },
    {
      "cell_type": "code",
      "source": [
        "from sklearn.tree import DecisionTreeClassifier\n",
        "\n",
        "max_accuracy = 0\n",
        "\n",
        "\n",
        "for x in range(200):\n",
        "    dt = DecisionTreeClassifier(random_state=x)\n",
        "    dt.fit(X_train,Y_train)\n",
        "    Y_pred_dt = dt.predict(X_test)\n",
        "    current_accuracy = round(accuracy_score(Y_pred_dt,Y_test)*100,2)\n",
        "    if(current_accuracy>max_accuracy):\n",
        "        max_accuracy = current_accuracy\n",
        "        best_x = x\n",
        "\n",
        "\n",
        "dt = DecisionTreeClassifier(random_state=best_x)\n",
        "dt.fit(X_train,Y_train)\n",
        "Y_pred_dt = dt.predict(X_test)"
      ],
      "metadata": {
        "execution": {
          "iopub.status.busy": "2024-02-04T05:16:17.495540Z",
          "iopub.execute_input": "2024-02-04T05:16:17.495977Z",
          "iopub.status.idle": "2024-02-04T05:16:18.270162Z",
          "shell.execute_reply.started": "2024-02-04T05:16:17.495945Z",
          "shell.execute_reply": "2024-02-04T05:16:18.268609Z"
        },
        "trusted": true,
        "id": "c0gBdhnxPbfl"
      },
      "execution_count": 60,
      "outputs": []
    },
    {
      "cell_type": "code",
      "source": [
        "print(Y_pred_dt.shape)"
      ],
      "metadata": {
        "execution": {
          "iopub.status.busy": "2024-02-04T05:16:18.271537Z",
          "iopub.execute_input": "2024-02-04T05:16:18.271987Z",
          "iopub.status.idle": "2024-02-04T05:16:18.277956Z",
          "shell.execute_reply.started": "2024-02-04T05:16:18.271949Z",
          "shell.execute_reply": "2024-02-04T05:16:18.276790Z"
        },
        "trusted": true,
        "colab": {
          "base_uri": "https://localhost:8080/"
        },
        "id": "xLqblp3vPbfl",
        "outputId": "2957a8a5-5a6e-4548-86fe-e6e3fbe5b5aa"
      },
      "execution_count": 61,
      "outputs": [
        {
          "output_type": "stream",
          "name": "stdout",
          "text": [
            "(61,)\n"
          ]
        }
      ]
    },
    {
      "cell_type": "code",
      "source": [
        "score_dt = round(accuracy_score(Y_pred_dt,Y_test)*100,2)\n",
        "\n",
        "print(\"The accuracy score achieved using Decision Tree is: \"+str(score_dt)+\" %\")"
      ],
      "metadata": {
        "execution": {
          "iopub.status.busy": "2024-02-04T05:16:18.279203Z",
          "iopub.execute_input": "2024-02-04T05:16:18.279534Z",
          "iopub.status.idle": "2024-02-04T05:16:18.290757Z",
          "shell.execute_reply.started": "2024-02-04T05:16:18.279506Z",
          "shell.execute_reply": "2024-02-04T05:16:18.289648Z"
        },
        "trusted": true,
        "colab": {
          "base_uri": "https://localhost:8080/"
        },
        "id": "-m--odkpPbfm",
        "outputId": "25931fbb-13cd-4166-921b-520376075157"
      },
      "execution_count": 62,
      "outputs": [
        {
          "output_type": "stream",
          "name": "stdout",
          "text": [
            "The accuracy score achieved using Decision Tree is: 78.69 %\n"
          ]
        }
      ]
    },
    {
      "cell_type": "markdown",
      "source": [
        "# ***Random Forest***"
      ],
      "metadata": {
        "id": "ztzucgMoPbfm"
      }
    },
    {
      "cell_type": "code",
      "source": [
        "from sklearn.ensemble import RandomForestClassifier\n",
        "\n",
        "max_accuracy = 0\n",
        "\n",
        "\n",
        "for x in range(200):\n",
        "    rf = RandomForestClassifier(random_state=x)\n",
        "    rf.fit(X_train,Y_train)\n",
        "    Y_pred_rf = rf.predict(X_test)\n",
        "    current_accuracy = round(accuracy_score(Y_pred_rf,Y_test)*100,2)\n",
        "    if(current_accuracy>max_accuracy):\n",
        "        max_accuracy = current_accuracy\n",
        "        best_x = x\n",
        "\n",
        "\n",
        "rf = RandomForestClassifier(random_state=best_x)\n",
        "rf.fit(X_train,Y_train)\n",
        "Y_pred_rf = rf.predict(X_test)"
      ],
      "metadata": {
        "execution": {
          "iopub.status.busy": "2024-02-04T05:16:18.292312Z",
          "iopub.execute_input": "2024-02-04T05:16:18.292595Z",
          "iopub.status.idle": "2024-02-04T05:16:47.913661Z",
          "shell.execute_reply.started": "2024-02-04T05:16:18.292556Z",
          "shell.execute_reply": "2024-02-04T05:16:47.911839Z"
        },
        "trusted": true,
        "id": "JOVlPw73Pbfn"
      },
      "execution_count": 63,
      "outputs": []
    },
    {
      "cell_type": "code",
      "source": [
        "Y_pred_rf.shape"
      ],
      "metadata": {
        "execution": {
          "iopub.status.busy": "2024-02-04T05:16:47.915616Z",
          "iopub.execute_input": "2024-02-04T05:16:47.916083Z",
          "iopub.status.idle": "2024-02-04T05:16:47.922699Z",
          "shell.execute_reply.started": "2024-02-04T05:16:47.916046Z",
          "shell.execute_reply": "2024-02-04T05:16:47.921526Z"
        },
        "trusted": true,
        "colab": {
          "base_uri": "https://localhost:8080/"
        },
        "id": "kibK5O1PPbfn",
        "outputId": "236dd5f9-b886-4328-f0de-5bf62c78187e"
      },
      "execution_count": 64,
      "outputs": [
        {
          "output_type": "execute_result",
          "data": {
            "text/plain": [
              "(61,)"
            ]
          },
          "metadata": {},
          "execution_count": 64
        }
      ]
    },
    {
      "cell_type": "code",
      "source": [
        "score_rf = round(accuracy_score(Y_pred_rf,Y_test)*100,2)\n",
        "\n",
        "print(\"The accuracy score achieved using Random Forest is: \"+str(score_rf)+\" %\")"
      ],
      "metadata": {
        "execution": {
          "iopub.status.busy": "2024-02-04T05:16:47.924353Z",
          "iopub.execute_input": "2024-02-04T05:16:47.924700Z",
          "iopub.status.idle": "2024-02-04T05:16:47.938242Z",
          "shell.execute_reply.started": "2024-02-04T05:16:47.924671Z",
          "shell.execute_reply": "2024-02-04T05:16:47.937120Z"
        },
        "trusted": true,
        "colab": {
          "base_uri": "https://localhost:8080/"
        },
        "id": "KM_DxqBuPbfn",
        "outputId": "c07bada0-d9f7-42ab-84b9-2f4b18fdffe6"
      },
      "execution_count": 65,
      "outputs": [
        {
          "output_type": "stream",
          "name": "stdout",
          "text": [
            "The accuracy score achieved using Random Forest is: 90.16 %\n"
          ]
        }
      ]
    },
    {
      "cell_type": "markdown",
      "source": [
        "# ***XG Boost***"
      ],
      "metadata": {
        "id": "Nyh-y_JYPbfo"
      }
    },
    {
      "cell_type": "code",
      "source": [
        "import xgboost as xgb\n",
        "\n",
        "xgb_model = xgb.XGBClassifier(objective=\"binary:logistic\", random_state=42)\n",
        "xgb_model.fit(X_train, Y_train)\n",
        "\n",
        "Y_pred_xgb = xgb_model.predict(X_test)"
      ],
      "metadata": {
        "execution": {
          "iopub.status.busy": "2024-02-04T05:16:47.939392Z",
          "iopub.execute_input": "2024-02-04T05:16:47.940100Z",
          "iopub.status.idle": "2024-02-04T05:16:48.008154Z",
          "shell.execute_reply.started": "2024-02-04T05:16:47.940072Z",
          "shell.execute_reply": "2024-02-04T05:16:48.006908Z"
        },
        "trusted": true,
        "id": "LZYs__l2Pbfo"
      },
      "execution_count": 66,
      "outputs": []
    },
    {
      "cell_type": "code",
      "source": [
        "Y_pred_xgb.shape"
      ],
      "metadata": {
        "execution": {
          "iopub.status.busy": "2024-02-04T05:16:48.009811Z",
          "iopub.execute_input": "2024-02-04T05:16:48.010708Z",
          "iopub.status.idle": "2024-02-04T05:16:48.018132Z",
          "shell.execute_reply.started": "2024-02-04T05:16:48.010671Z",
          "shell.execute_reply": "2024-02-04T05:16:48.016444Z"
        },
        "trusted": true,
        "colab": {
          "base_uri": "https://localhost:8080/"
        },
        "id": "DOmXrTlKPbfp",
        "outputId": "c258d296-6451-41b3-ab13-7e0da5c7ef68"
      },
      "execution_count": 67,
      "outputs": [
        {
          "output_type": "execute_result",
          "data": {
            "text/plain": [
              "(61,)"
            ]
          },
          "metadata": {},
          "execution_count": 67
        }
      ]
    },
    {
      "cell_type": "code",
      "source": [
        "score_xgb = round(accuracy_score(Y_pred_xgb,Y_test)*100,2)\n",
        "\n",
        "print(\"The accuracy score achieved using XGBoost is: \"+str(score_xgb)+\" %\")"
      ],
      "metadata": {
        "execution": {
          "iopub.status.busy": "2024-02-04T05:16:48.019924Z",
          "iopub.execute_input": "2024-02-04T05:16:48.020389Z",
          "iopub.status.idle": "2024-02-04T05:16:48.033511Z",
          "shell.execute_reply.started": "2024-02-04T05:16:48.020360Z",
          "shell.execute_reply": "2024-02-04T05:16:48.032100Z"
        },
        "trusted": true,
        "colab": {
          "base_uri": "https://localhost:8080/"
        },
        "id": "UKoGd_TbPbfp",
        "outputId": "c491ca55-77c0-496a-c006-52ea8f453e08"
      },
      "execution_count": 68,
      "outputs": [
        {
          "output_type": "stream",
          "name": "stdout",
          "text": [
            "The accuracy score achieved using XGBoost is: 80.33 %\n"
          ]
        }
      ]
    },
    {
      "cell_type": "markdown",
      "source": [
        "# ***Neural Network***"
      ],
      "metadata": {
        "id": "ghcveFXvPbfp"
      }
    },
    {
      "cell_type": "code",
      "source": [
        "from keras.models import Sequential\n",
        "from keras.layers import Dense"
      ],
      "metadata": {
        "execution": {
          "iopub.status.busy": "2024-02-04T05:16:48.035087Z",
          "iopub.execute_input": "2024-02-04T05:16:48.035374Z",
          "iopub.status.idle": "2024-02-04T05:16:48.043884Z",
          "shell.execute_reply.started": "2024-02-04T05:16:48.035350Z",
          "shell.execute_reply": "2024-02-04T05:16:48.042762Z"
        },
        "trusted": true,
        "id": "adP5d_7cPbfq"
      },
      "execution_count": 69,
      "outputs": []
    },
    {
      "cell_type": "code",
      "source": [
        "model = Sequential()\n",
        "model.add(Dense(11,activation='relu',input_dim=13))\n",
        "model.add(Dense(1,activation='sigmoid'))\n",
        "\n",
        "model.compile(loss='binary_crossentropy',optimizer='adam',metrics=['accuracy'])"
      ],
      "metadata": {
        "execution": {
          "iopub.status.busy": "2024-02-04T05:16:48.045865Z",
          "iopub.execute_input": "2024-02-04T05:16:48.046405Z",
          "iopub.status.idle": "2024-02-04T05:16:48.093182Z",
          "shell.execute_reply.started": "2024-02-04T05:16:48.046324Z",
          "shell.execute_reply": "2024-02-04T05:16:48.091565Z"
        },
        "trusted": true,
        "id": "qLWYwn9pPbfq"
      },
      "execution_count": 70,
      "outputs": []
    },
    {
      "cell_type": "code",
      "source": [
        "model.fit(X_train,Y_train,epochs=200)"
      ],
      "metadata": {
        "execution": {
          "iopub.status.busy": "2024-02-04T05:16:48.094691Z",
          "iopub.execute_input": "2024-02-04T05:16:48.095090Z",
          "iopub.status.idle": "2024-02-04T05:16:53.740991Z",
          "shell.execute_reply.started": "2024-02-04T05:16:48.095056Z",
          "shell.execute_reply": "2024-02-04T05:16:53.739660Z"
        },
        "trusted": true,
        "colab": {
          "base_uri": "https://localhost:8080/"
        },
        "id": "3rentwnbPbfr",
        "outputId": "ed47d4d6-f359-4057-ad2f-7ed5e6a390ea"
      },
      "execution_count": 71,
      "outputs": [
        {
          "output_type": "stream",
          "name": "stdout",
          "text": [
            "Epoch 1/200\n",
            "8/8 [==============================] - 1s 3ms/step - loss: 23.5925 - accuracy: 0.5394\n",
            "Epoch 2/200\n",
            "8/8 [==============================] - 0s 2ms/step - loss: 17.0645 - accuracy: 0.5394\n",
            "Epoch 3/200\n",
            "8/8 [==============================] - 0s 2ms/step - loss: 10.6616 - accuracy: 0.5394\n",
            "Epoch 4/200\n",
            "8/8 [==============================] - 0s 2ms/step - loss: 5.5205 - accuracy: 0.5062\n",
            "Epoch 5/200\n",
            "8/8 [==============================] - 0s 2ms/step - loss: 4.3870 - accuracy: 0.4896\n",
            "Epoch 6/200\n",
            "8/8 [==============================] - 0s 2ms/step - loss: 4.8078 - accuracy: 0.4730\n",
            "Epoch 7/200\n",
            "8/8 [==============================] - 0s 2ms/step - loss: 4.3939 - accuracy: 0.4896\n",
            "Epoch 8/200\n",
            "8/8 [==============================] - 0s 2ms/step - loss: 4.1025 - accuracy: 0.5062\n",
            "Epoch 9/200\n",
            "8/8 [==============================] - 0s 2ms/step - loss: 4.0575 - accuracy: 0.5187\n",
            "Epoch 10/200\n",
            "8/8 [==============================] - 0s 2ms/step - loss: 3.8888 - accuracy: 0.5228\n",
            "Epoch 11/200\n",
            "8/8 [==============================] - 0s 3ms/step - loss: 3.7028 - accuracy: 0.4979\n",
            "Epoch 12/200\n",
            "8/8 [==============================] - 0s 2ms/step - loss: 3.5853 - accuracy: 0.4813\n",
            "Epoch 13/200\n",
            "8/8 [==============================] - 0s 2ms/step - loss: 3.4327 - accuracy: 0.4647\n",
            "Epoch 14/200\n",
            "8/8 [==============================] - 0s 2ms/step - loss: 3.2982 - accuracy: 0.4896\n",
            "Epoch 15/200\n",
            "8/8 [==============================] - 0s 3ms/step - loss: 3.1760 - accuracy: 0.4772\n",
            "Epoch 16/200\n",
            "8/8 [==============================] - 0s 3ms/step - loss: 3.0370 - accuracy: 0.4896\n",
            "Epoch 17/200\n",
            "8/8 [==============================] - 0s 2ms/step - loss: 2.8926 - accuracy: 0.4938\n",
            "Epoch 18/200\n",
            "8/8 [==============================] - 0s 2ms/step - loss: 2.7386 - accuracy: 0.4813\n",
            "Epoch 19/200\n",
            "8/8 [==============================] - 0s 2ms/step - loss: 2.7048 - accuracy: 0.4523\n",
            "Epoch 20/200\n",
            "8/8 [==============================] - 0s 2ms/step - loss: 2.5539 - accuracy: 0.4896\n",
            "Epoch 21/200\n",
            "8/8 [==============================] - 0s 2ms/step - loss: 2.3647 - accuracy: 0.5104\n",
            "Epoch 22/200\n",
            "8/8 [==============================] - 0s 2ms/step - loss: 2.2534 - accuracy: 0.4938\n",
            "Epoch 23/200\n",
            "8/8 [==============================] - 0s 2ms/step - loss: 2.0850 - accuracy: 0.5062\n",
            "Epoch 24/200\n",
            "8/8 [==============================] - 0s 2ms/step - loss: 1.9906 - accuracy: 0.5104\n",
            "Epoch 25/200\n",
            "8/8 [==============================] - 0s 2ms/step - loss: 1.8850 - accuracy: 0.5187\n",
            "Epoch 26/200\n",
            "8/8 [==============================] - 0s 2ms/step - loss: 1.8162 - accuracy: 0.5228\n",
            "Epoch 27/200\n",
            "8/8 [==============================] - 0s 2ms/step - loss: 1.7228 - accuracy: 0.5477\n",
            "Epoch 28/200\n",
            "8/8 [==============================] - 0s 2ms/step - loss: 1.6635 - accuracy: 0.5353\n",
            "Epoch 29/200\n",
            "8/8 [==============================] - 0s 2ms/step - loss: 1.5562 - accuracy: 0.5560\n",
            "Epoch 30/200\n",
            "8/8 [==============================] - 0s 2ms/step - loss: 1.4946 - accuracy: 0.5477\n",
            "Epoch 31/200\n",
            "8/8 [==============================] - 0s 2ms/step - loss: 1.4287 - accuracy: 0.5436\n",
            "Epoch 32/200\n",
            "8/8 [==============================] - 0s 2ms/step - loss: 1.4158 - accuracy: 0.5311\n",
            "Epoch 33/200\n",
            "8/8 [==============================] - 0s 2ms/step - loss: 1.3106 - accuracy: 0.5685\n",
            "Epoch 34/200\n",
            "8/8 [==============================] - 0s 2ms/step - loss: 1.2722 - accuracy: 0.5768\n",
            "Epoch 35/200\n",
            "8/8 [==============================] - 0s 2ms/step - loss: 1.2262 - accuracy: 0.6017\n",
            "Epoch 36/200\n",
            "8/8 [==============================] - 0s 2ms/step - loss: 1.1798 - accuracy: 0.6058\n",
            "Epoch 37/200\n",
            "8/8 [==============================] - 0s 2ms/step - loss: 1.1343 - accuracy: 0.6141\n",
            "Epoch 38/200\n",
            "8/8 [==============================] - 0s 2ms/step - loss: 1.0972 - accuracy: 0.6183\n",
            "Epoch 39/200\n",
            "8/8 [==============================] - 0s 2ms/step - loss: 1.0801 - accuracy: 0.6266\n",
            "Epoch 40/200\n",
            "8/8 [==============================] - 0s 2ms/step - loss: 1.0794 - accuracy: 0.5892\n",
            "Epoch 41/200\n",
            "8/8 [==============================] - 0s 3ms/step - loss: 1.0195 - accuracy: 0.6473\n",
            "Epoch 42/200\n",
            "8/8 [==============================] - 0s 2ms/step - loss: 0.9991 - accuracy: 0.6266\n",
            "Epoch 43/200\n",
            "8/8 [==============================] - 0s 2ms/step - loss: 0.9844 - accuracy: 0.6017\n",
            "Epoch 44/200\n",
            "8/8 [==============================] - 0s 2ms/step - loss: 0.9679 - accuracy: 0.6473\n",
            "Epoch 45/200\n",
            "8/8 [==============================] - 0s 2ms/step - loss: 0.9313 - accuracy: 0.6183\n",
            "Epoch 46/200\n",
            "8/8 [==============================] - 0s 2ms/step - loss: 0.9145 - accuracy: 0.6141\n",
            "Epoch 47/200\n",
            "8/8 [==============================] - 0s 3ms/step - loss: 0.8941 - accuracy: 0.6722\n",
            "Epoch 48/200\n",
            "8/8 [==============================] - 0s 2ms/step - loss: 0.8708 - accuracy: 0.6556\n",
            "Epoch 49/200\n",
            "8/8 [==============================] - 0s 2ms/step - loss: 0.8787 - accuracy: 0.6432\n",
            "Epoch 50/200\n",
            "8/8 [==============================] - 0s 2ms/step - loss: 0.8330 - accuracy: 0.6598\n",
            "Epoch 51/200\n",
            "8/8 [==============================] - 0s 2ms/step - loss: 0.8190 - accuracy: 0.6680\n",
            "Epoch 52/200\n",
            "8/8 [==============================] - 0s 2ms/step - loss: 0.8117 - accuracy: 0.6639\n",
            "Epoch 53/200\n",
            "8/8 [==============================] - 0s 4ms/step - loss: 0.7879 - accuracy: 0.6722\n",
            "Epoch 54/200\n",
            "8/8 [==============================] - 0s 2ms/step - loss: 0.7832 - accuracy: 0.7054\n",
            "Epoch 55/200\n",
            "8/8 [==============================] - 0s 2ms/step - loss: 0.7648 - accuracy: 0.6929\n",
            "Epoch 56/200\n",
            "8/8 [==============================] - 0s 2ms/step - loss: 0.7550 - accuracy: 0.7012\n",
            "Epoch 57/200\n",
            "8/8 [==============================] - 0s 3ms/step - loss: 0.7412 - accuracy: 0.7054\n",
            "Epoch 58/200\n",
            "8/8 [==============================] - 0s 2ms/step - loss: 0.7340 - accuracy: 0.7054\n",
            "Epoch 59/200\n",
            "8/8 [==============================] - 0s 2ms/step - loss: 0.7262 - accuracy: 0.6971\n",
            "Epoch 60/200\n",
            "8/8 [==============================] - 0s 2ms/step - loss: 0.7082 - accuracy: 0.7137\n",
            "Epoch 61/200\n",
            "8/8 [==============================] - 0s 3ms/step - loss: 0.7087 - accuracy: 0.7178\n",
            "Epoch 62/200\n",
            "8/8 [==============================] - 0s 2ms/step - loss: 0.7325 - accuracy: 0.7054\n",
            "Epoch 63/200\n",
            "8/8 [==============================] - 0s 2ms/step - loss: 0.6932 - accuracy: 0.7261\n",
            "Epoch 64/200\n",
            "8/8 [==============================] - 0s 2ms/step - loss: 0.6738 - accuracy: 0.7386\n",
            "Epoch 65/200\n",
            "8/8 [==============================] - 0s 2ms/step - loss: 0.6840 - accuracy: 0.7178\n",
            "Epoch 66/200\n",
            "8/8 [==============================] - 0s 3ms/step - loss: 0.6655 - accuracy: 0.7344\n",
            "Epoch 67/200\n",
            "8/8 [==============================] - 0s 2ms/step - loss: 0.6598 - accuracy: 0.7303\n",
            "Epoch 68/200\n",
            "8/8 [==============================] - 0s 2ms/step - loss: 0.6476 - accuracy: 0.7344\n",
            "Epoch 69/200\n",
            "8/8 [==============================] - 0s 2ms/step - loss: 0.6495 - accuracy: 0.7137\n",
            "Epoch 70/200\n",
            "8/8 [==============================] - 0s 3ms/step - loss: 0.6434 - accuracy: 0.7386\n",
            "Epoch 71/200\n",
            "8/8 [==============================] - 0s 2ms/step - loss: 0.6292 - accuracy: 0.7469\n",
            "Epoch 72/200\n",
            "8/8 [==============================] - 0s 2ms/step - loss: 0.6218 - accuracy: 0.7427\n",
            "Epoch 73/200\n",
            "8/8 [==============================] - 0s 2ms/step - loss: 0.6167 - accuracy: 0.7303\n",
            "Epoch 74/200\n",
            "8/8 [==============================] - 0s 2ms/step - loss: 0.6102 - accuracy: 0.7386\n",
            "Epoch 75/200\n",
            "8/8 [==============================] - 0s 2ms/step - loss: 0.6144 - accuracy: 0.7510\n",
            "Epoch 76/200\n",
            "8/8 [==============================] - 0s 2ms/step - loss: 0.6145 - accuracy: 0.7552\n",
            "Epoch 77/200\n",
            "8/8 [==============================] - 0s 2ms/step - loss: 0.5977 - accuracy: 0.7469\n",
            "Epoch 78/200\n",
            "8/8 [==============================] - 0s 2ms/step - loss: 0.5944 - accuracy: 0.7510\n",
            "Epoch 79/200\n",
            "8/8 [==============================] - 0s 2ms/step - loss: 0.5976 - accuracy: 0.7386\n",
            "Epoch 80/200\n",
            "8/8 [==============================] - 0s 2ms/step - loss: 0.5753 - accuracy: 0.7635\n",
            "Epoch 81/200\n",
            "8/8 [==============================] - 0s 2ms/step - loss: 0.5812 - accuracy: 0.7635\n",
            "Epoch 82/200\n",
            "8/8 [==============================] - 0s 2ms/step - loss: 0.6554 - accuracy: 0.7344\n",
            "Epoch 83/200\n",
            "8/8 [==============================] - 0s 2ms/step - loss: 0.6495 - accuracy: 0.7137\n",
            "Epoch 84/200\n",
            "8/8 [==============================] - 0s 2ms/step - loss: 0.5850 - accuracy: 0.7427\n",
            "Epoch 85/200\n",
            "8/8 [==============================] - 0s 2ms/step - loss: 0.5508 - accuracy: 0.7759\n",
            "Epoch 86/200\n",
            "8/8 [==============================] - 0s 2ms/step - loss: 0.5565 - accuracy: 0.7593\n",
            "Epoch 87/200\n",
            "8/8 [==============================] - 0s 2ms/step - loss: 0.5456 - accuracy: 0.7801\n",
            "Epoch 88/200\n",
            "8/8 [==============================] - 0s 2ms/step - loss: 0.5508 - accuracy: 0.7635\n",
            "Epoch 89/200\n",
            "8/8 [==============================] - 0s 2ms/step - loss: 0.5536 - accuracy: 0.7552\n",
            "Epoch 90/200\n",
            "8/8 [==============================] - 0s 3ms/step - loss: 0.5378 - accuracy: 0.7676\n",
            "Epoch 91/200\n",
            "8/8 [==============================] - 0s 2ms/step - loss: 0.5307 - accuracy: 0.7759\n",
            "Epoch 92/200\n",
            "8/8 [==============================] - 0s 2ms/step - loss: 0.5247 - accuracy: 0.7759\n",
            "Epoch 93/200\n",
            "8/8 [==============================] - 0s 2ms/step - loss: 0.5170 - accuracy: 0.7884\n",
            "Epoch 94/200\n",
            "8/8 [==============================] - 0s 3ms/step - loss: 0.5170 - accuracy: 0.7801\n",
            "Epoch 95/200\n",
            "8/8 [==============================] - 0s 3ms/step - loss: 0.5127 - accuracy: 0.7842\n",
            "Epoch 96/200\n",
            "8/8 [==============================] - 0s 2ms/step - loss: 0.5149 - accuracy: 0.7801\n",
            "Epoch 97/200\n",
            "8/8 [==============================] - 0s 2ms/step - loss: 0.5043 - accuracy: 0.7925\n",
            "Epoch 98/200\n",
            "8/8 [==============================] - 0s 2ms/step - loss: 0.5042 - accuracy: 0.7925\n",
            "Epoch 99/200\n",
            "8/8 [==============================] - 0s 2ms/step - loss: 0.5090 - accuracy: 0.7842\n",
            "Epoch 100/200\n",
            "8/8 [==============================] - 0s 2ms/step - loss: 0.5137 - accuracy: 0.7552\n",
            "Epoch 101/200\n",
            "8/8 [==============================] - 0s 2ms/step - loss: 0.4953 - accuracy: 0.7801\n",
            "Epoch 102/200\n",
            "8/8 [==============================] - 0s 2ms/step - loss: 0.4980 - accuracy: 0.7842\n",
            "Epoch 103/200\n",
            "8/8 [==============================] - 0s 3ms/step - loss: 0.5248 - accuracy: 0.7759\n",
            "Epoch 104/200\n",
            "8/8 [==============================] - 0s 2ms/step - loss: 0.5359 - accuracy: 0.7635\n",
            "Epoch 105/200\n",
            "8/8 [==============================] - 0s 2ms/step - loss: 0.5557 - accuracy: 0.7469\n",
            "Epoch 106/200\n",
            "8/8 [==============================] - 0s 2ms/step - loss: 0.5625 - accuracy: 0.7510\n",
            "Epoch 107/200\n",
            "8/8 [==============================] - 0s 2ms/step - loss: 0.5765 - accuracy: 0.7386\n",
            "Epoch 108/200\n",
            "8/8 [==============================] - 0s 3ms/step - loss: 0.5158 - accuracy: 0.7593\n",
            "Epoch 109/200\n",
            "8/8 [==============================] - 0s 3ms/step - loss: 0.4857 - accuracy: 0.7718\n",
            "Epoch 110/200\n",
            "8/8 [==============================] - 0s 3ms/step - loss: 0.4964 - accuracy: 0.7884\n",
            "Epoch 111/200\n",
            "8/8 [==============================] - 0s 3ms/step - loss: 0.5008 - accuracy: 0.7676\n",
            "Epoch 112/200\n",
            "8/8 [==============================] - 0s 2ms/step - loss: 0.4668 - accuracy: 0.8008\n",
            "Epoch 113/200\n",
            "8/8 [==============================] - 0s 3ms/step - loss: 0.4637 - accuracy: 0.7967\n",
            "Epoch 114/200\n",
            "8/8 [==============================] - 0s 2ms/step - loss: 0.4589 - accuracy: 0.8091\n",
            "Epoch 115/200\n",
            "8/8 [==============================] - 0s 2ms/step - loss: 0.4612 - accuracy: 0.7884\n",
            "Epoch 116/200\n",
            "8/8 [==============================] - 0s 2ms/step - loss: 0.4561 - accuracy: 0.8050\n",
            "Epoch 117/200\n",
            "8/8 [==============================] - 0s 2ms/step - loss: 0.4580 - accuracy: 0.7967\n",
            "Epoch 118/200\n",
            "8/8 [==============================] - 0s 2ms/step - loss: 0.4621 - accuracy: 0.7967\n",
            "Epoch 119/200\n",
            "8/8 [==============================] - 0s 2ms/step - loss: 0.4667 - accuracy: 0.7510\n",
            "Epoch 120/200\n",
            "8/8 [==============================] - 0s 2ms/step - loss: 0.4950 - accuracy: 0.7925\n",
            "Epoch 121/200\n",
            "8/8 [==============================] - 0s 2ms/step - loss: 0.5111 - accuracy: 0.7718\n",
            "Epoch 122/200\n",
            "8/8 [==============================] - 0s 2ms/step - loss: 0.4738 - accuracy: 0.7925\n",
            "Epoch 123/200\n",
            "8/8 [==============================] - 0s 2ms/step - loss: 0.4625 - accuracy: 0.7801\n",
            "Epoch 124/200\n",
            "8/8 [==============================] - 0s 2ms/step - loss: 0.4535 - accuracy: 0.7967\n",
            "Epoch 125/200\n",
            "8/8 [==============================] - 0s 2ms/step - loss: 0.4419 - accuracy: 0.7925\n",
            "Epoch 126/200\n",
            "8/8 [==============================] - 0s 2ms/step - loss: 0.4467 - accuracy: 0.7884\n",
            "Epoch 127/200\n",
            "8/8 [==============================] - 0s 2ms/step - loss: 0.4454 - accuracy: 0.7884\n",
            "Epoch 128/200\n",
            "8/8 [==============================] - 0s 2ms/step - loss: 0.4447 - accuracy: 0.8008\n",
            "Epoch 129/200\n",
            "8/8 [==============================] - 0s 2ms/step - loss: 0.4417 - accuracy: 0.7884\n",
            "Epoch 130/200\n",
            "8/8 [==============================] - 0s 2ms/step - loss: 0.4339 - accuracy: 0.8133\n",
            "Epoch 131/200\n",
            "8/8 [==============================] - 0s 2ms/step - loss: 0.4312 - accuracy: 0.7925\n",
            "Epoch 132/200\n",
            "8/8 [==============================] - 0s 2ms/step - loss: 0.4390 - accuracy: 0.8050\n",
            "Epoch 133/200\n",
            "8/8 [==============================] - 0s 2ms/step - loss: 0.4495 - accuracy: 0.8050\n",
            "Epoch 134/200\n",
            "8/8 [==============================] - 0s 2ms/step - loss: 0.4585 - accuracy: 0.7884\n",
            "Epoch 135/200\n",
            "8/8 [==============================] - 0s 2ms/step - loss: 0.4350 - accuracy: 0.7925\n",
            "Epoch 136/200\n",
            "8/8 [==============================] - 0s 3ms/step - loss: 0.4278 - accuracy: 0.8174\n",
            "Epoch 137/200\n",
            "8/8 [==============================] - 0s 3ms/step - loss: 0.4281 - accuracy: 0.8091\n",
            "Epoch 138/200\n",
            "8/8 [==============================] - 0s 2ms/step - loss: 0.4279 - accuracy: 0.8050\n",
            "Epoch 139/200\n",
            "8/8 [==============================] - 0s 2ms/step - loss: 0.4362 - accuracy: 0.7925\n",
            "Epoch 140/200\n",
            "8/8 [==============================] - 0s 2ms/step - loss: 0.4204 - accuracy: 0.8340\n",
            "Epoch 141/200\n",
            "8/8 [==============================] - 0s 2ms/step - loss: 0.4313 - accuracy: 0.7967\n",
            "Epoch 142/200\n",
            "8/8 [==============================] - 0s 2ms/step - loss: 0.4255 - accuracy: 0.8174\n",
            "Epoch 143/200\n",
            "8/8 [==============================] - 0s 2ms/step - loss: 0.4211 - accuracy: 0.8091\n",
            "Epoch 144/200\n",
            "8/8 [==============================] - 0s 2ms/step - loss: 0.4172 - accuracy: 0.8133\n",
            "Epoch 145/200\n",
            "8/8 [==============================] - 0s 2ms/step - loss: 0.4242 - accuracy: 0.8174\n",
            "Epoch 146/200\n",
            "8/8 [==============================] - 0s 2ms/step - loss: 0.4451 - accuracy: 0.7801\n",
            "Epoch 147/200\n",
            "8/8 [==============================] - 0s 2ms/step - loss: 0.4352 - accuracy: 0.8133\n",
            "Epoch 148/200\n",
            "8/8 [==============================] - 0s 2ms/step - loss: 0.4179 - accuracy: 0.8008\n",
            "Epoch 149/200\n",
            "8/8 [==============================] - 0s 2ms/step - loss: 0.4169 - accuracy: 0.8050\n",
            "Epoch 150/200\n",
            "8/8 [==============================] - 0s 2ms/step - loss: 0.4238 - accuracy: 0.8008\n",
            "Epoch 151/200\n",
            "8/8 [==============================] - 0s 2ms/step - loss: 0.4254 - accuracy: 0.8216\n",
            "Epoch 152/200\n",
            "8/8 [==============================] - 0s 2ms/step - loss: 0.4139 - accuracy: 0.8050\n",
            "Epoch 153/200\n",
            "8/8 [==============================] - 0s 2ms/step - loss: 0.4156 - accuracy: 0.8008\n",
            "Epoch 154/200\n",
            "8/8 [==============================] - 0s 3ms/step - loss: 0.4180 - accuracy: 0.8050\n",
            "Epoch 155/200\n",
            "8/8 [==============================] - 0s 3ms/step - loss: 0.4181 - accuracy: 0.8174\n",
            "Epoch 156/200\n",
            "8/8 [==============================] - 0s 3ms/step - loss: 0.4123 - accuracy: 0.8216\n",
            "Epoch 157/200\n",
            "8/8 [==============================] - 0s 2ms/step - loss: 0.4111 - accuracy: 0.8133\n",
            "Epoch 158/200\n",
            "8/8 [==============================] - 0s 3ms/step - loss: 0.4069 - accuracy: 0.8216\n",
            "Epoch 159/200\n",
            "8/8 [==============================] - 0s 2ms/step - loss: 0.4073 - accuracy: 0.8133\n",
            "Epoch 160/200\n",
            "8/8 [==============================] - 0s 3ms/step - loss: 0.4099 - accuracy: 0.8091\n",
            "Epoch 161/200\n",
            "8/8 [==============================] - 0s 2ms/step - loss: 0.4137 - accuracy: 0.8216\n",
            "Epoch 162/200\n",
            "8/8 [==============================] - 0s 2ms/step - loss: 0.4116 - accuracy: 0.8050\n",
            "Epoch 163/200\n",
            "8/8 [==============================] - 0s 2ms/step - loss: 0.4246 - accuracy: 0.8008\n",
            "Epoch 164/200\n",
            "8/8 [==============================] - 0s 2ms/step - loss: 0.4272 - accuracy: 0.7884\n",
            "Epoch 165/200\n",
            "8/8 [==============================] - 0s 2ms/step - loss: 0.4843 - accuracy: 0.8050\n",
            "Epoch 166/200\n",
            "8/8 [==============================] - 0s 2ms/step - loss: 0.4523 - accuracy: 0.7676\n",
            "Epoch 167/200\n",
            "8/8 [==============================] - 0s 2ms/step - loss: 0.4169 - accuracy: 0.8216\n",
            "Epoch 168/200\n",
            "8/8 [==============================] - 0s 2ms/step - loss: 0.4266 - accuracy: 0.7925\n",
            "Epoch 169/200\n",
            "8/8 [==============================] - 0s 3ms/step - loss: 0.4084 - accuracy: 0.7967\n",
            "Epoch 170/200\n",
            "8/8 [==============================] - 0s 3ms/step - loss: 0.4090 - accuracy: 0.8174\n",
            "Epoch 171/200\n",
            "8/8 [==============================] - 0s 3ms/step - loss: 0.4016 - accuracy: 0.8216\n",
            "Epoch 172/200\n",
            "8/8 [==============================] - 0s 3ms/step - loss: 0.4137 - accuracy: 0.8257\n",
            "Epoch 173/200\n",
            "8/8 [==============================] - 0s 3ms/step - loss: 0.4100 - accuracy: 0.8091\n",
            "Epoch 174/200\n",
            "8/8 [==============================] - 0s 4ms/step - loss: 0.4036 - accuracy: 0.8257\n",
            "Epoch 175/200\n",
            "8/8 [==============================] - 0s 3ms/step - loss: 0.4045 - accuracy: 0.8133\n",
            "Epoch 176/200\n",
            "8/8 [==============================] - 0s 3ms/step - loss: 0.3998 - accuracy: 0.8340\n",
            "Epoch 177/200\n",
            "8/8 [==============================] - 0s 3ms/step - loss: 0.4028 - accuracy: 0.8091\n",
            "Epoch 178/200\n",
            "8/8 [==============================] - 0s 3ms/step - loss: 0.3998 - accuracy: 0.8050\n",
            "Epoch 179/200\n",
            "8/8 [==============================] - 0s 3ms/step - loss: 0.4041 - accuracy: 0.8299\n",
            "Epoch 180/200\n",
            "8/8 [==============================] - 0s 3ms/step - loss: 0.4006 - accuracy: 0.8091\n",
            "Epoch 181/200\n",
            "8/8 [==============================] - 0s 3ms/step - loss: 0.4086 - accuracy: 0.8257\n",
            "Epoch 182/200\n",
            "8/8 [==============================] - 0s 3ms/step - loss: 0.3964 - accuracy: 0.8133\n",
            "Epoch 183/200\n",
            "8/8 [==============================] - 0s 3ms/step - loss: 0.4062 - accuracy: 0.8216\n",
            "Epoch 184/200\n",
            "8/8 [==============================] - 0s 3ms/step - loss: 0.4095 - accuracy: 0.8050\n",
            "Epoch 185/200\n",
            "8/8 [==============================] - 0s 3ms/step - loss: 0.4019 - accuracy: 0.8216\n",
            "Epoch 186/200\n",
            "8/8 [==============================] - 0s 3ms/step - loss: 0.4089 - accuracy: 0.8091\n",
            "Epoch 187/200\n",
            "8/8 [==============================] - 0s 3ms/step - loss: 0.4231 - accuracy: 0.8133\n",
            "Epoch 188/200\n",
            "8/8 [==============================] - 0s 3ms/step - loss: 0.3994 - accuracy: 0.8216\n",
            "Epoch 189/200\n",
            "8/8 [==============================] - 0s 3ms/step - loss: 0.4161 - accuracy: 0.8091\n",
            "Epoch 190/200\n",
            "8/8 [==============================] - 0s 3ms/step - loss: 0.4153 - accuracy: 0.8091\n",
            "Epoch 191/200\n",
            "8/8 [==============================] - 0s 3ms/step - loss: 0.3977 - accuracy: 0.8174\n",
            "Epoch 192/200\n",
            "8/8 [==============================] - 0s 3ms/step - loss: 0.3985 - accuracy: 0.8299\n",
            "Epoch 193/200\n",
            "8/8 [==============================] - 0s 2ms/step - loss: 0.3923 - accuracy: 0.8257\n",
            "Epoch 194/200\n",
            "8/8 [==============================] - 0s 3ms/step - loss: 0.3985 - accuracy: 0.8133\n",
            "Epoch 195/200\n",
            "8/8 [==============================] - 0s 3ms/step - loss: 0.3920 - accuracy: 0.8257\n",
            "Epoch 196/200\n",
            "8/8 [==============================] - 0s 3ms/step - loss: 0.3982 - accuracy: 0.8133\n",
            "Epoch 197/200\n",
            "8/8 [==============================] - 0s 3ms/step - loss: 0.4272 - accuracy: 0.7925\n",
            "Epoch 198/200\n",
            "8/8 [==============================] - 0s 3ms/step - loss: 0.3931 - accuracy: 0.8382\n",
            "Epoch 199/200\n",
            "8/8 [==============================] - 0s 3ms/step - loss: 0.4156 - accuracy: 0.8216\n",
            "Epoch 200/200\n",
            "8/8 [==============================] - 0s 3ms/step - loss: 0.3951 - accuracy: 0.8216\n"
          ]
        },
        {
          "output_type": "execute_result",
          "data": {
            "text/plain": [
              "<keras.src.callbacks.History at 0x79c980415030>"
            ]
          },
          "metadata": {},
          "execution_count": 71
        }
      ]
    },
    {
      "cell_type": "code",
      "source": [
        "Y_pred_nn = model.predict(X_test)"
      ],
      "metadata": {
        "execution": {
          "iopub.status.busy": "2024-02-04T05:16:53.743005Z",
          "iopub.execute_input": "2024-02-04T05:16:53.743406Z",
          "iopub.status.idle": "2024-02-04T05:16:53.847068Z",
          "shell.execute_reply.started": "2024-02-04T05:16:53.743374Z",
          "shell.execute_reply": "2024-02-04T05:16:53.845900Z"
        },
        "trusted": true,
        "colab": {
          "base_uri": "https://localhost:8080/"
        },
        "id": "phirO1-8Pbfr",
        "outputId": "5f5613f9-7735-4dd6-badd-18a51c9140c4"
      },
      "execution_count": 72,
      "outputs": [
        {
          "output_type": "stream",
          "name": "stdout",
          "text": [
            "2/2 [==============================] - 0s 5ms/step\n"
          ]
        }
      ]
    },
    {
      "cell_type": "code",
      "source": [
        "Y_pred_nn.shape"
      ],
      "metadata": {
        "execution": {
          "iopub.status.busy": "2024-02-04T05:16:53.850123Z",
          "iopub.execute_input": "2024-02-04T05:16:53.850548Z",
          "iopub.status.idle": "2024-02-04T05:16:53.858128Z",
          "shell.execute_reply.started": "2024-02-04T05:16:53.850494Z",
          "shell.execute_reply": "2024-02-04T05:16:53.856217Z"
        },
        "trusted": true,
        "colab": {
          "base_uri": "https://localhost:8080/"
        },
        "id": "8vQXrMvFPbfs",
        "outputId": "5c2e641d-f772-4764-a74d-a1090b4ae43b"
      },
      "execution_count": 73,
      "outputs": [
        {
          "output_type": "execute_result",
          "data": {
            "text/plain": [
              "(61, 1)"
            ]
          },
          "metadata": {},
          "execution_count": 73
        }
      ]
    },
    {
      "cell_type": "code",
      "source": [
        "rounded = [round(x[0]) for x in Y_pred_nn]\n",
        "\n",
        "Y_pred_nn = rounded"
      ],
      "metadata": {
        "execution": {
          "iopub.status.busy": "2024-02-04T05:16:53.859923Z",
          "iopub.execute_input": "2024-02-04T05:16:53.860409Z",
          "iopub.status.idle": "2024-02-04T05:16:53.868385Z",
          "shell.execute_reply.started": "2024-02-04T05:16:53.860385Z",
          "shell.execute_reply": "2024-02-04T05:16:53.867461Z"
        },
        "trusted": true,
        "id": "ks9mcDv3Pbfs"
      },
      "execution_count": 74,
      "outputs": []
    },
    {
      "cell_type": "code",
      "source": [
        "score_nn = round(accuracy_score(Y_pred_nn,Y_test)*100,2)\n",
        "\n",
        "print(\"The accuracy score achieved using Neural Network is: \"+str(score_nn)+\" %\")"
      ],
      "metadata": {
        "execution": {
          "iopub.status.busy": "2024-02-04T05:16:53.869678Z",
          "iopub.execute_input": "2024-02-04T05:16:53.871352Z",
          "iopub.status.idle": "2024-02-04T05:16:53.886368Z",
          "shell.execute_reply.started": "2024-02-04T05:16:53.871289Z",
          "shell.execute_reply": "2024-02-04T05:16:53.885251Z"
        },
        "trusted": true,
        "colab": {
          "base_uri": "https://localhost:8080/"
        },
        "id": "vd3MP2LKPbft",
        "outputId": "fe52390e-b017-4efa-f0a9-ae5429ce8e83"
      },
      "execution_count": 75,
      "outputs": [
        {
          "output_type": "stream",
          "name": "stdout",
          "text": [
            "The accuracy score achieved using Neural Network is: 85.25 %\n"
          ]
        }
      ]
    },
    {
      "cell_type": "markdown",
      "source": [
        "# ***Output Final Scores***"
      ],
      "metadata": {
        "id": "pP8gzl_cPbft"
      }
    },
    {
      "cell_type": "code",
      "source": [
        "scores = [score_lr,score_nb,score_svm,score_knn,score_dt,score_rf,score_xgb,score_nn]\n",
        "algorithms = [\"Logistic Regression\",\"Naive Bayes\",\"Support Vector Machine\",\"K-Nearest Neighbors\",\"Decision Tree\",\"Random Forest\",\"XGBoost\",\"Neural Network\"]\n",
        "\n",
        "for i in range(len(algorithms)):\n",
        "    print(\"The accuracy score achieved using \"+algorithms[i]+\" is: \"+str(scores[i])+\" %\")"
      ],
      "metadata": {
        "execution": {
          "iopub.status.busy": "2024-02-04T05:16:53.887667Z",
          "iopub.execute_input": "2024-02-04T05:16:53.888846Z",
          "iopub.status.idle": "2024-02-04T05:16:53.898907Z",
          "shell.execute_reply.started": "2024-02-04T05:16:53.888813Z",
          "shell.execute_reply": "2024-02-04T05:16:53.897848Z"
        },
        "trusted": true,
        "colab": {
          "base_uri": "https://localhost:8080/"
        },
        "id": "7BMpWkwqPbfu",
        "outputId": "03acb8f9-5fa0-4260-feb1-7b455aee6a54"
      },
      "execution_count": 76,
      "outputs": [
        {
          "output_type": "stream",
          "name": "stdout",
          "text": [
            "The accuracy score achieved using Logistic Regression is: 85.25 %\n",
            "The accuracy score achieved using Naive Bayes is: 90.16 %\n",
            "The accuracy score achieved using Support Vector Machine is: 86.89 %\n",
            "The accuracy score achieved using K-Nearest Neighbors is: 62.3 %\n",
            "The accuracy score achieved using Decision Tree is: 78.69 %\n",
            "The accuracy score achieved using Random Forest is: 90.16 %\n",
            "The accuracy score achieved using XGBoost is: 80.33 %\n",
            "The accuracy score achieved using Neural Network is: 85.25 %\n"
          ]
        }
      ]
    },
    {
      "cell_type": "markdown",
      "source": [
        "# ***Plotting the Results***"
      ],
      "metadata": {
        "id": "XQaVkjt7Pbfu"
      }
    },
    {
      "cell_type": "code",
      "source": [
        "sns.set(rc={'figure.figsize':(20,10)})\n",
        "plt.xlabel(\"Algorithms\")\n",
        "plt.ylabel(\"Accuracy score\")\n",
        "\n",
        "sns.barplot(x = algorithms,y = scores)"
      ],
      "metadata": {
        "execution": {
          "iopub.status.busy": "2024-02-04T05:16:53.900821Z",
          "iopub.execute_input": "2024-02-04T05:16:53.901472Z",
          "iopub.status.idle": "2024-02-04T05:16:54.207733Z",
          "shell.execute_reply.started": "2024-02-04T05:16:53.901439Z",
          "shell.execute_reply": "2024-02-04T05:16:54.206450Z"
        },
        "trusted": true,
        "colab": {
          "base_uri": "https://localhost:8080/",
          "height": 895
        },
        "id": "KOAPwIb-Pbfv",
        "outputId": "b85c21a3-0286-4585-d36d-932e0d6820e1"
      },
      "execution_count": 77,
      "outputs": [
        {
          "output_type": "execute_result",
          "data": {
            "text/plain": [
              "<Axes: xlabel='Algorithms', ylabel='Accuracy score'>"
            ]
          },
          "metadata": {},
          "execution_count": 77
        },
        {
          "output_type": "display_data",
          "data": {
            "text/plain": [
              "<Figure size 2000x1000 with 1 Axes>"
            ],
            "image/png": "[encoded data removed]"
          },
          "metadata": {}
        }
      ]
    },
    {
      "cell_type": "markdown",
      "source": [
        "**Therefore, we can conclude that Random Forest Algorithm and Naive Bayes Algorithm have a better accuracy for our model than other algorithms.**\n",
        "\n",
        "**The algorithms from best accuracy to least are Random Forest, Naive Bayes, Support Vector Machine(SVM), Neural Network, Logistic Regression, XGBoost, Decision Tree, K-Nearest Neighbors(KNN)**"
      ],
      "metadata": {
        "id": "__5hMHhqSKzv"
      }
    }
  ]
}